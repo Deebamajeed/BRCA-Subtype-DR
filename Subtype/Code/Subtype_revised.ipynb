{
  "cells": [
    {
      "cell_type": "code",
      "execution_count": 1,
      "metadata": {
        "id": "TdZbX73FFnTE",
        "colab": {
          "base_uri": "https://localhost:8080/"
        },
        "outputId": "75b6fefc-0df6-4fff-e4d1-58181b555dc5"
      },
      "outputs": [
        {
          "output_type": "stream",
          "name": "stdout",
          "text": [
            "Cloning into 'BRCA-Subtype-DR'...\n",
            "remote: Enumerating objects: 205, done.\u001b[K\n",
            "remote: Counting objects: 100% (205/205), done.\u001b[K\n",
            "remote: Compressing objects: 100% (190/190), done.\u001b[K\n",
            "remote: Total 205 (delta 63), reused 0 (delta 0), pack-reused 0\u001b[K\n",
            "Receiving objects: 100% (205/205), 5.65 MiB | 5.28 MiB/s, done.\n",
            "Resolving deltas: 100% (63/63), done.\n"
          ]
        }
      ],
      "source": [
        "!git clone https://github.com/Deebamajeed/BRCA-Subtype-DR.git"
      ]
    },
    {
      "cell_type": "code",
      "source": [
        "import torch \n",
        "import torch.nn as nn\n",
        "import torch.nn.functional as F\n",
        "import torch.optim as optim\n",
        "import numpy as np\n",
        "import matplotlib\n",
        "matplotlib.use('Agg')\n",
        "import matplotlib.pyplot as plt\n",
        "import matplotlib.gridspec as gridspec\n",
        "import pandas as pd\n",
        "import math\n",
        "import sklearn.preprocessing as sk\n",
        "import seaborn as sns\n",
        "from sklearn import metrics\n",
        "from sklearn.feature_selection import VarianceThreshold\n",
        "from sklearn.model_selection import train_test_split\n",
        "#import utils\n",
        "#from myutils import AllTripletSelector,HardestNegativeTripletSelector, RandomNegativeTripletSelector, SemihardNegativeTripletSelector # Strategies for selecting triplets within a minibatch\n",
        "#from mymetrics import AverageNonzeroTripletsMetric\n",
        "#from utils import RandomNegativeTripletSelector\n",
        "\n",
        "from torch.utils.data.sampler import WeightedRandomSampler\n",
        "from sklearn.metrics import roc_auc_score\n",
        "from sklearn.metrics import average_precision_score\n",
        "import random\n",
        "from random import randint\n",
        "from sklearn.model_selection import StratifiedKFold,RepeatedKFold\n",
        "from sklearn.metrics import roc_curve, auc\n",
        "from scipy import interp\n",
        "\n",
        "import numpy as np\n",
        "import warnings\n",
        "import math\n",
        "from sklearn.feature_selection import SelectKBest\n",
        "from sklearn.feature_selection import chi2\n",
        "from sklearn import preprocessing\n",
        "warnings.filterwarnings(\"ignore\")\n",
        "\n",
        "save_results_to = '/content/results_multi'\n",
        "#torch.manual_seed(42)\n",
        "random.seed(42)\n",
        "\n",
        "max_iter = 1\n",
        "\n",
        "\n",
        "\n",
        "TCGAEx_clin = pd.read_csv(\"/content/BRCA-Subtype-DR/Subtype/Data/clins.csv\", \n",
        "                    index_col=0, header=None)\n",
        "TCGAEx_meth = pd.read_csv(\"/content/BRCA-Subtype-DR/Subtype/Data/meths.csv\", \n",
        "                    index_col=0, header=None)\n",
        "TCGAEx_mirs = pd.read_csv(\"/content/BRCA-Subtype-DR/Subtype/Data/mirs.csv\", \n",
        "                    index_col=0, header=None)\n",
        "TCGAEx_muts = pd.read_csv(\"/content/BRCA-Subtype-DR/Subtype/Data/muts.csv\", \n",
        "                    index_col=0, header=None)\n",
        "TCGAEx_prots = pd.read_csv(\"/content/BRCA-Subtype-DR/Subtype/Data/prots.csv\", \n",
        "                    index_col=0, header=None)\n",
        "TCGAEx_rnas = pd.read_csv(\"/content/BRCA-Subtype-DR/Subtype/Data/rnas.csv\", \n",
        "                    index_col=0, header=None)  \n",
        "TCGAEx_cnv = pd.read_csv(\"/content/BRCA-Subtype-DR/Subtype/Data/cnv.csv\", \n",
        "                    index_col=0, header=None)\n",
        "TCGAEx_clin=TCGAEx_clin.values\n",
        "TCGAEx_meth=TCGAEx_meth.values\n",
        "TCGAEx_mirs=TCGAEx_mirs.values\n",
        "TCGAEx_muts=TCGAEx_muts.values\n",
        "TCGAEx_prots=TCGAEx_prots.values\n",
        "TCGAEx_rnas=TCGAEx_rnas.values\n",
        "TCGAEx_cnvs=TCGAEx_cnv.values\n",
        "#print(TCGAEx)\n",
        "\n",
        "label_df=pd.read_csv(\"/content/BRCA-Subtype-DR/Subtype/Data/label.csv\",header=None)\n",
        "Y=label_df[0].values\n",
        "data1=TCGAEx_clin[:,:]\n",
        "data2=TCGAEx_meth[:,:]\n",
        "data3=TCGAEx_mirs[:,:]\n",
        "data4=TCGAEx_muts[:,:]\n",
        "data5=TCGAEx_prots[:,:]\n",
        "data6=TCGAEx_rnas[:,:]\n",
        "#print(label)\n",
        "\n",
        "\n",
        "print(data1.shape)\n",
        "\n",
        "print(data2.shape)\n",
        "\n",
        "print(data3.shape)\n",
        "\n",
        "print(data4.shape)\n",
        "\n",
        "print(data5.shape)\n",
        "\n",
        "print(data6.shape)\n",
        "\n",
        "print(Y)\n",
        "'''\n",
        "print(data1)\n",
        "a=input()\n",
        "print(data2)\n",
        "a=input()\n",
        "print(data3)\n",
        "a=input()\n",
        "print(data4)\n",
        "a=input()\n",
        "print(data5)\n",
        "a=input()\n",
        "print(data6)\n",
        "a=input()\n",
        "print(Y.shape)\n",
        "'''\n",
        "TCGAE1 = data1\n",
        "TCGAE2 = data2\n",
        "TCGAE3 = data3\n",
        "TCGAE4 = data4\n",
        "TCGAE5 = data5\n",
        "TCGAE6 = data6\n",
        "print(TCGAE2)\n",
        "\n",
        "#TCGAE3 = SelectKBest(chi2, k=30).fit_transform(data3, Y)\n",
        "#TCGAE4 = SelectKBest(chi2, k=14).fit_transform(data4, Y)\n",
        "#TCGAE5 = SelectKBest(chi2, k=269).fit_transform(data5, Y)\n",
        "#TCGAE6 = SelectKBest(chi2, k=100).fit_transform(data6, Y)\n",
        "#print(Y)\n",
        "'''\n",
        "ls_mb_size = [13, 36, 64]\n",
        "ls_h_dim = [1024, 256, 128, 512, 64, 16]\n",
        "#ls_h_dim = [32, 16, 8, 4]\n",
        "ls_marg = [0.5, 1, 1.5, 2, 2.5, 3]\n",
        "ls_lr = [0.5, 0.1, 0.05, 0.01, 0.001, 0.005, 0.0005, 0.0001,0.00005, 0.00001]\n",
        "ls_epoch = [20, 50, 90, 100]\n",
        "ls_rate = [0.3, 0.4, 0.5]\n",
        "ls_wd = [0.1, 0.001, 0.0001]\n",
        "ls_lam = [0.1, 0.5, 0.01, 0.05, 0.001, 0.005]\n",
        "'''\n",
        "ls_mb_size = [64]\n",
        "ls_h_dim = [512]\n",
        "\n",
        "ls_lr = [0.01]\n",
        "ls_epoch = [10]\n",
        "ls_rate = [0.5]\n",
        "ls_wd = [0.001]\n",
        "\n",
        "\n",
        "skf = StratifiedKFold(n_splits=5, random_state=None,shuffle=True)\n",
        "\n",
        "rkf = RepeatedKFold(n_splits=5, n_repeats=2, random_state=0)\n",
        "for iters in range(max_iter):\n",
        "    #print('iters:',iters)\n",
        "    k = 0\n",
        "    mbs = random.choice(ls_mb_size)\n",
        "    hdm = random.choice(ls_h_dim)\n",
        "    #mrg = random.choice(ls_marg)\n",
        "    lre = random.choice(ls_lr)\n",
        "    lrCL = random.choice(ls_lr)\n",
        "    epch = random.choice(ls_epoch)\n",
        "    rate = random.choice(ls_rate)\n",
        "    wd = random.choice(ls_wd)   \n",
        "    #lam = random.choice(ls_lam)\n",
        "\n",
        "    costtr_all=[]\n",
        "    costts_all=[]\n",
        "    auctr_all=[]\n",
        "    aucts_all=[]\n",
        "    acctr_all=[]\n",
        "    accts_all=[]\n",
        "    sentr_all=[]\n",
        "    sents_all=[]\n",
        "    spetr_all=[]\n",
        "    spets_all=[]\n",
        "  \n",
        "    mean_tpr = 0.0             \n",
        "\n",
        "    mean_fpr = np.linspace(0, 1, 100)\n",
        "\n",
        "    #cnt = 0\n",
        "\n",
        "    for repeat in range(10):\n",
        "        for train_index, test_index in rkf.split(TCGAE1, Y.astype('int')):\n",
        "            \n",
        "          if(k%5==0):\n",
        "            k = k + 1\n",
        "            X_trainE1 = TCGAE1[train_index,:]\n",
        "            X_trainE2 = TCGAE2[train_index,:]\n",
        "            X_trainE3 = TCGAE3[train_index,:]\n",
        "            X_trainE4 = TCGAE4[train_index,:]\n",
        "            X_trainE5 = TCGAE5[train_index,:]\n",
        "            X_trainE6 = TCGAE6[train_index,:]\n",
        "            X_testE1 =  TCGAE1[test_index,:]\n",
        "            X_testE2 =  TCGAE2[test_index,:]\n",
        "            X_testE3 =  TCGAE3[test_index,:]\n",
        "            X_testE4 =  TCGAE4[test_index,:]\n",
        "            X_testE5 =  TCGAE5[test_index,:]\n",
        "            X_testE6 =  TCGAE6[test_index,:]\n",
        "            y_trainE = Y[train_index]\n",
        "            y_testE = Y[test_index]\n",
        "       \n",
        "            \n",
        "            TX_testE1 = torch.FloatTensor(X_testE1)\n",
        "            TX_testE2 = torch.FloatTensor(X_testE2)\n",
        "            TX_testE3 = torch.FloatTensor(X_testE3)\n",
        "            TX_testE4 = torch.FloatTensor(X_testE4)\n",
        "            TX_testE5 = torch.FloatTensor(X_testE5)\n",
        "            TX_testE6 = torch.FloatTensor(X_testE6)\n",
        "            ty_testE = torch.FloatTensor(y_testE.astype(int))\n",
        "            \n",
        "            #Train\n",
        "            class_sample_count = np.array([len(np.where(y_trainE==t)[0]) for t in np.unique(y_trainE)])\n",
        "            print(class_sample_count)\n",
        "            \n",
        "            weight = 1. / class_sample_count\n",
        "            samples_weight = np.array([weight[t] for t in y_trainE])\n",
        "\n",
        "            samples_weight = torch.from_numpy(samples_weight)\n",
        "            sampler = WeightedRandomSampler(samples_weight.type('torch.DoubleTensor'), len(samples_weight), replacement=True)\n",
        "\n",
        "            mb_size = mbs\n",
        "\n",
        "            trainDataset = torch.utils.data.TensorDataset(torch.FloatTensor(X_trainE1),torch.FloatTensor(X_trainE2),\n",
        "                                                          torch.FloatTensor(X_trainE3),torch.FloatTensor(X_trainE4),torch.FloatTensor(X_trainE5),\n",
        "                                                          torch.FloatTensor(X_trainE6),torch.FloatTensor(y_trainE.astype(int)))\n",
        "\n",
        "            trainLoader = torch.utils.data.DataLoader(dataset = trainDataset, batch_size=mb_size, shuffle=True, num_workers=0)\n",
        "\n",
        "            n_sampE1, IE1_dim = X_trainE1.shape\n",
        "            n_sampE2, IE2_dim = X_trainE2.shape\n",
        "            n_sampE3, IE3_dim = X_trainE3.shape\n",
        "            n_sampE4, IE4_dim = X_trainE4.shape\n",
        "            n_sampE5, IE5_dim = X_trainE5.shape\n",
        "            n_sampE6, IE6_dim = X_trainE6.shape\n",
        "\n",
        "            h_dim1 = hdm\n",
        "            h_dim2 = hdm\n",
        "            h_dim3 = hdm\n",
        "            h_dim4 = hdm\n",
        "            h_dim5 = hdm\n",
        "            h_dim6 = hdm\n",
        "            Z_in = h_dim1+h_dim2+h_dim3+h_dim4+h_dim5+h_dim6\n",
        "            #marg = mrg\n",
        "            lrE = lre\n",
        "            epoch = epch\n",
        "\n",
        "            costtr = []\n",
        "            auctr = []\n",
        "            costts = []\n",
        "            aucts = []\n",
        "            acctr=[]\n",
        "            accts=[]\n",
        "            acc0tr=[]\n",
        "            acc0ts=[]\n",
        "            sentr=[]\n",
        "            sents=[]\n",
        "            spetr=[]\n",
        "            spets=[]\n",
        "            class AEE(nn.Module):\n",
        "                def __init__(self):\n",
        "                    super(AEE, self).__init__()\n",
        "                    self.EnE = torch.nn.Sequential(\n",
        "                        nn.Linear(IE1_dim, h_dim1),\n",
        "                        nn.BatchNorm1d(h_dim1),\n",
        "                        nn.ReLU(),\n",
        "                        nn.Dropout(rate))\n",
        "                def forward(self, x):\n",
        "                    output = self.EnE(x)\n",
        "                    return output\n",
        "\n",
        "            class AEM(nn.Module):\n",
        "                def __init__(self):\n",
        "                    super(AEM, self).__init__()\n",
        "                    self.EnM = torch.nn.Sequential(\n",
        "                        nn.Linear(IE2_dim, h_dim2),\n",
        "                        nn.BatchNorm1d(h_dim2),\n",
        "                        nn.ReLU(),\n",
        "                        nn.Dropout(rate))\n",
        "                def forward(self, x):\n",
        "                    output = self.EnM(x)\n",
        "                    return output    \n",
        "\n",
        "\n",
        "            class AEC(nn.Module):\n",
        "                def __init__(self):\n",
        "                    super(AEC, self).__init__()\n",
        "                    self.EnC = torch.nn.Sequential(\n",
        "                        nn.Linear(IE3_dim, h_dim3),\n",
        "                        nn.BatchNorm1d(h_dim3),\n",
        "                        nn.ReLU(),\n",
        "                        nn.Dropout(rate))\n",
        "                def forward(self, x):\n",
        "                    output = self.EnC(x)\n",
        "                    return output    \n",
        "\n",
        "            class AED(nn.Module):\n",
        "                def __init__(self):\n",
        "                    super(AED, self).__init__()\n",
        "                    self.EnD = torch.nn.Sequential(\n",
        "                        nn.Linear(IE4_dim, h_dim4),\n",
        "                        nn.BatchNorm1d(h_dim4),\n",
        "                        nn.ReLU(),\n",
        "                        nn.Dropout(rate))\n",
        "                def forward(self, x):\n",
        "                    output = self.EnD(x)\n",
        "                    return output\n",
        "\n",
        "            class AEF(nn.Module):\n",
        "                def __init__(self):\n",
        "                    super(AEF, self).__init__()\n",
        "                    self.EnF = torch.nn.Sequential(\n",
        "                        nn.Linear(IE5_dim, h_dim5),\n",
        "                        nn.BatchNorm1d(h_dim5),\n",
        "                        nn.ReLU(),\n",
        "                        nn.Dropout(rate))\n",
        "                def forward(self, x):\n",
        "                    output = self.EnF(x)\n",
        "                    return output    \n",
        "\n",
        "\n",
        "            class AEP(nn.Module):\n",
        "                def __init__(self):\n",
        "                    super(AEP, self).__init__()\n",
        "                    self.EnP = torch.nn.Sequential(\n",
        "                        nn.Linear(IE6_dim, h_dim6),\n",
        "                        nn.BatchNorm1d(h_dim6),\n",
        "                        nn.ReLU(),\n",
        "                        nn.Dropout(rate))\n",
        "                def forward(self, x):\n",
        "                    output = self.EnP(x)\n",
        "                    return output\n",
        "            \n",
        "            class OnlineTriplet(nn.Module):\n",
        "                def __init__(self, marg, triplet_selector):\n",
        "                    super(OnlineTriplet, self).__init__()\n",
        "                    self.marg = marg\n",
        "                    self.triplet_selector = triplet_selector\n",
        "                def forward(self, embeddings, target):\n",
        "                    triplets = self.triplet_selector.get_triplets(embeddings, target)\n",
        "                    return triplets\n",
        "          \n",
        "          \n",
        "            class Classifier(nn.Module):\n",
        "                def __init__(self):\n",
        "                    super(Classifier, self).__init__()\n",
        "                    self.FC = torch.nn.Sequential(\n",
        "                        nn.Linear(Z_in, 5),\n",
        "                        nn.Dropout(rate))\n",
        "                def forward(self, x):\n",
        "                    return F.softmax(self.FC(x))\n",
        "                    #return self.FC(x)\n",
        "\n",
        "            torch.cuda.manual_seed_all(42)\n",
        "\n",
        "            AutoencoderE1 = AEE()\n",
        "            AutoencoderE2 = AEM()\n",
        "            AutoencoderE3 = AEC()\n",
        "            AutoencoderE4 = AED()\n",
        "            AutoencoderE5 = AEF()\n",
        "            AutoencoderE6 = AEP()\n",
        "\n",
        "            solverE1 = optim.Adagrad(AutoencoderE1.parameters(), lr=lrE)\n",
        "            solverE2 = optim.Adagrad(AutoencoderE2.parameters(), lr=lrE)\n",
        "            solverE3 = optim.Adagrad(AutoencoderE3.parameters(), lr=lrE)\n",
        "            solverE4 = optim.Adagrad(AutoencoderE4.parameters(), lr=lrE)\n",
        "            solverE5 = optim.Adagrad(AutoencoderE5.parameters(), lr=lrE)\n",
        "            solverE6 = optim.Adagrad(AutoencoderE6.parameters(), lr=lrE)\n",
        "            Clas = Classifier()\n",
        "            SolverClass = optim.Adagrad(Clas.parameters(), lr=lrCL, weight_decay = wd)\n",
        "            C_loss = torch.nn.CrossEntropyLoss()\n",
        "            print('epoch_all',epoch)\n",
        "            for it in range(epoch):\n",
        "                #print('epoch:',it)\n",
        "                epoch_cost4 = []\n",
        "                epoch_cost3 = []\n",
        "                p_real=[]\n",
        "                p_pred=[]\n",
        "                n_real=[]\n",
        "                n_pred=[]\n",
        "                p_realt=[]\n",
        "                p_predt=[]\n",
        "                n_realt=[]\n",
        "                n_predt=[]\n",
        "             \n",
        "                correct = torch.zeros(1).squeeze()\n",
        "                total = torch.zeros(1).squeeze()\n",
        "                correctt = torch.zeros(1).squeeze()\n",
        "                totalt = torch.zeros(1).squeeze()\n",
        "                num_minibatches = int(n_sampE1 / mb_size) \n",
        "\n",
        "                for i, (dataE1,dataE2,dataE3,dataE4,dataE5,dataE6,target) in enumerate(trainLoader):\n",
        "                    \n",
        "                    flag = 0\n",
        "                    AutoencoderE1.train()\n",
        "                    AutoencoderE2.train()\n",
        "                    AutoencoderE3.train()\n",
        "                    AutoencoderE4.train()\n",
        "                    AutoencoderE5.train()\n",
        "                    AutoencoderE6.train()\n",
        "                    Clas.train()\n",
        "\n",
        "                    #if torch.mean(target)!=0. and torch.mean(target)!=1.: \n",
        "                    ZEX1 = AutoencoderE1(dataE1)\n",
        "                    ZEX2 = AutoencoderE2(dataE2)\n",
        "                    ZEX3 = AutoencoderE3(dataE3)\n",
        "                    ZEX4 = AutoencoderE4(dataE4)\n",
        "                    ZEX5 = AutoencoderE5(dataE5)\n",
        "                    ZEX6 = AutoencoderE6(dataE6)\n",
        "                    ZT = torch.cat((ZEX1, ZEX2, ZEX3,ZEX4, ZEX5, ZEX6), 1)\n",
        "                    ZT = F.normalize(ZT, p=2, dim=0)\n",
        "                    Pred = Clas(ZT)\n",
        "\n",
        "                    #Triplets = TripSel2(ZEX, target)\n",
        "                    #loss = lam * trip_criterion(ZEX[Triplets[:,0],:],ZEX[Triplets[:,1],:],ZEX[Triplets[:,2],:]) + C_loss(Pred,target.view(-1,1))     \n",
        "                    loss=C_loss(Pred,target.view(-1,1).long().squeeze())\n",
        "                    y_true = target.view(-1,1)\n",
        "                    y_pred = Pred\n",
        "\n",
        "                    prediction = torch.argmax(y_pred, 1)\n",
        "                    correct += (prediction == target.long().squeeze()).sum().float()\n",
        "                    total += len(target)\n",
        "                   \n",
        "\n",
        "                            \n",
        "                    solverE1.zero_grad()\n",
        "                    solverE2.zero_grad()\n",
        "                    solverE3.zero_grad()\n",
        "                    solverE4.zero_grad()\n",
        "                    solverE5.zero_grad()\n",
        "                    solverE6.zero_grad()\n",
        "                    SolverClass.zero_grad()\n",
        "\n",
        "                    loss.backward()\n",
        "\n",
        "                    solverE1.step()\n",
        "                    solverE2.step()\n",
        "                    solverE3.step()\n",
        "                    solverE4.step()\n",
        "                    solverE5.step()\n",
        "                    solverE6.step()\n",
        "                    SolverClass.step()\n",
        "\n",
        "                    epoch_cost4.append(loss)\n",
        "                    \n",
        "                flag = 1\n",
        "\n",
        "                if flag == 1:\n",
        "                    costtr.append(torch.mean(torch.FloatTensor(epoch_cost4)))\n",
        "                   \n",
        "                    acc=(correct/total).detach().numpy()\n",
        "                    acctr.append(acc)\n",
        "                if(it==epoch-1):\n",
        "                    print('acctrain:',acc)\n",
        "                    \n",
        "                    \n",
        "                with torch.no_grad():\n",
        "\n",
        "                    AutoencoderE1.eval()\n",
        "                    AutoencoderE2.eval()\n",
        "                    AutoencoderE3.eval()\n",
        "                    AutoencoderE4.eval()\n",
        "                    AutoencoderE5.eval()\n",
        "                    AutoencoderE6.eval()\n",
        "                    Clas.eval()\n",
        "\n",
        "                    #ZET = AutoencoderE(TX_testE)\n",
        "                    ZET1 = AutoencoderE1(TX_testE1)\n",
        "                    ZET2 = AutoencoderE2(TX_testE2)\n",
        "                    ZET3 = AutoencoderE3(TX_testE3)\n",
        "                    ZET4 = AutoencoderE4(TX_testE4)\n",
        "                    ZET5 = AutoencoderE5(TX_testE5)\n",
        "                    ZET6 = AutoencoderE6(TX_testE6)\n",
        "                    ZTT = torch.cat((ZET1, ZET2, ZET3,ZET4, ZET5, ZET6), 1)\n",
        "                    ZTT = F.normalize(ZTT, p=2, dim=0)\n",
        "                    PredT = Clas(ZTT)\n",
        "\n",
        "                    #TripletsT = TripSel2(ZET, ty_testE)\n",
        "                    #lossT = lam * trip_criterion(ZET[TripletsT[:,0],:], ZET[TripletsT[:,1],:], ZET[TripletsT[:,2],:]) + C_loss(PredT,ty_testE.view(-1,1))\n",
        "                    lossT=C_loss(PredT,ty_testE.view(-1,1).long().squeeze())\n",
        "                    y_truet = ty_testE.view(-1,1)\n",
        "                    y_predt = PredT\n",
        "\n",
        "                    predictiont = torch.argmax(y_predt, 1)\n",
        "                    correctt += (predictiont == y_truet.long().squeeze()).sum().float()\n",
        "                    totalt += len(y_truet)\n",
        "                   \n",
        "                    costts.append(lossT)\n",
        "                    acc=(correctt/totalt).detach().numpy()\n",
        "                    accts.append(acc)\n",
        "                    cm = confusion_matrix(y_truet, predictiont)\n",
        "                    print(cm)\n",
        "                    cm_df = pd.DataFrame(cm,\n",
        "                     index = ['Basal','Her2','LumA','LumB','Unknown'], \n",
        "                     columns = ['Basal','Her2','LumA','LumB','Unknown'])\n",
        "                    sns_plot=sns.heatmap(cm_df, cmap= \"YlGnBu\", annot=True)\n",
        "                    fig = sns_plot.get_figure()\n",
        "                    fig.savefig(\"output.png\",dpi=300)\n",
        "                    \n",
        "                if(it==epoch-1):\n",
        "                   \n",
        "                    print('acctest:',acc)\n",
        "                   \n",
        "                    \n",
        "\n",
        "            acctr_all.append(acctr)\n",
        "            accts_all.append(accts)\n",
        "            costtr_all.append(costtr)\n",
        "            costts_all.append(costts)\n",
        "\n",
        "            if k%50==0:\n",
        "                \n",
        "                costtr_all=np.array(costtr_all)\n",
        "                costts_all=np.array(costts_all)\n",
        "                costtr5=sum(costtr_all)/k\n",
        "                costts5=sum(costts_all)/k\n",
        "                print('cost200:',costts5[-1])\n",
        "                print('costmin:',min(costts5))\n",
        "                acctr_all=np.array(acctr_all)\n",
        "                accts_all=np.array(accts_all)\n",
        "                acctr5=sum(acctr_all)/k\n",
        "                accts5=sum(accts_all)/k\n",
        "                print('acc200:',accts5[-1])\n",
        "                print('accmax:',max(accts5))\n",
        "                print('cost:',costts5)\n",
        "                print('acc:',accts5)\n",
        "                plt.plot(np.squeeze(costtr5), '-r',np.squeeze(costts5), '-b')\n",
        "                plt.ylabel('Total cost')\n",
        "                plt.xlabel('epoch')\n",
        "\n",
        "                title = 'all_ Cost(5class5000)-skf10   mb_size = {},  h_dim = {} , lrE = {}, epoch = {}, rate = {}, wd = {}, lrCL = {}'.\\\n",
        "                              format( mbs, hdm,  lre, epch, rate, wd, lrCL)\n",
        "\n",
        "                #title = 'Cost  iter = {}, fold = {}, mb_size = {},  h_dim = {}, marg = {}, lrE = {}, epoch = {}, rate = {}, wd = {}, lrCL = {}, lam = {}'.\\\n",
        "                #              format(iters, k, mbs, hdm, mrg, lre, epch, rate, wd, lrCL, lam)\n",
        "\n",
        "                plt.suptitle(title)\n",
        "                plt.savefig(save_results_to + title + '.png', dpi = 150)\n",
        "                plt.close()\n",
        "               \n",
        "\n",
        "                plt.plot(np.squeeze(acctr5), '-r',np.squeeze(accts5), '-b')\n",
        "                plt.ylabel('Accuracy')\n",
        "                plt.xlabel('epoch')\n",
        "\n",
        "                title = 'all_ Accuracy(5class5000)-skf10   mb_size = {},  h_dim = {},  lrE = {}, epoch = {}, rate = {}, wd = {}, lrCL = {}, '.\\\n",
        "                              format( mbs, hdm, lre, epch, rate, wd, lrCL)        \n",
        "\n",
        "                plt.suptitle(title)\n",
        "                plt.savefig(save_results_to + title + '.png', dpi = 150)\n",
        "                plt.close()\n",
        "               \n"
      ],
      "metadata": {
        "colab": {
          "base_uri": "https://localhost:8080/",
          "height": 1000
        },
        "id": "qpw_r0GWVTCP",
        "outputId": "0c792fa5-0e08-4c25-ce00-7e9f7a5f52c0"
      },
      "execution_count": 68,
      "outputs": [
        {
          "output_type": "stream",
          "name": "stdout",
          "text": [
            "(700, 14)\n",
            "(700, 23)\n",
            "(700, 30)\n",
            "(700, 14)\n",
            "(700, 14)\n",
            "(700, 100)\n",
            "[2 2 2 2 2 3 3 2 2 0 3 0 2 4 3 3 2 3 0 2 0 0 1 4 0 1 0 2 3 0 3 0 0 2 0 2 0\n",
            " 2 4 3 0 3 3 0 0 2 2 4 2 0 2 2 2 3 2 0 3 2 2 3 2 2 0 3 3 2 1 2 2 2 3 3 0 2\n",
            " 1 2 0 2 4 3 2 2 2 4 2 2 2 0 2 3 2 2 3 2 3 3 3 2 2 2 2 2 2 2 1 2 2 2 0 3 2\n",
            " 3 0 2 2 3 2 3 3 2 2 3 1 3 4 3 2 2 2 2 3 3 2 3 3 3 1 1 3 0 0 2 3 2 2 2 2 2\n",
            " 2 3 2 2 2 0 3 3 1 2 2 4 2 0 2 2 2 2 3 2 3 2 2 3 0 2 2 3 0 1 2 2 2 0 2 2 2\n",
            " 2 2 2 3 2 1 0 0 3 0 2 2 2 0 0 3 0 2 3 2 2 3 2 2 2 3 2 2 3 2 3 2 2 3 2 3 1\n",
            " 2 3 2 3 2 3 2 3 3 0 3 0 0 2 1 3 2 2 3 2 0 2 3 2 0 3 2 2 2 3 0 2 0 2 2 2 1\n",
            " 4 0 1 2 2 2 2 2 3 0 2 2 2 0 2 2 0 2 2 2 0 0 0 0 0 0 0 0 0 0 0 0 0 0 0 0 0\n",
            " 0 0 0 0 0 0 0 0 0 0 0 0 0 0 0 0 0 0 0 0 0 0 0 0 0 0 0 0 0 0 0 0 0 0 0 0 0\n",
            " 0 0 0 0 0 0 0 0 0 0 0 0 0 0 0 0 0 0 0 0 0 0 0 0 0 0 0 0 0 0 0 0 0 0 0 0 0\n",
            " 0 0 1 1 1 1 1 1 1 1 1 1 1 1 1 1 1 1 1 1 1 1 1 1 1 1 1 1 1 1 1 1 1 1 1 1 1\n",
            " 1 1 1 1 1 1 1 1 1 1 1 1 1 1 1 1 1 1 1 1 1 1 1 1 1 1 1 1 1 1 1 1 1 1 1 1 1\n",
            " 1 1 1 1 1 1 1 1 1 1 1 1 1 1 1 1 1 1 1 1 1 1 1 1 1 1 1 1 1 1 1 1 1 1 1 1 1\n",
            " 1 1 1 1 1 1 1 1 1 1 1 1 1 1 1 1 3 3 3 3 3 3 3 3 3 3 3 3 3 3 3 3 3 3 3 3 3\n",
            " 3 3 3 3 3 3 3 3 3 3 3 3 3 3 3 3 3 3 3 3 3 3 3 3 3 3 3 3 3 3 3 3 3 3 3 3 3\n",
            " 3 3 3 3 3 3 3 3 3 3 3 3 3 3 4 4 4 4 4 4 4 4 4 4 4 4 4 4 4 4 4 4 4 4 4 4 4\n",
            " 4 4 4 4 4 4 4 4 4 4 4 4 4 4 4 4 4 4 4 4 4 4 4 4 4 4 4 4 4 4 4 4 4 4 4 4 4\n",
            " 4 4 4 4 4 4 4 4 4 4 4 4 4 4 4 4 4 4 4 4 4 4 4 4 4 4 4 4 4 4 4 4 4 4 4 4 4\n",
            " 4 4 4 4 4 4 4 4 4 4 4 4 4 4 4 4 4 4 4 4 4 4 4 4 4 4 4 4 4 4 4 4 4 4]\n",
            "[[0.40788232 0.47425211 0.19413792 ... 0.16856685 0.25479863 0.62376571]\n",
            " [0.05153864 0.05635298 0.23171672 ... 0.49962589 0.77910026 0.06978211]\n",
            " [0.40622742 0.32655089 0.72094609 ... 0.37586387 0.62240445 0.58769049]\n",
            " ...\n",
            " [0.02650831 0.06411689 0.29376151 ... 0.0314255  0.18746946 0.15585605]\n",
            " [0.34182011 0.33022014 0.69469658 ... 0.2755646  0.44584934 0.3883718 ]\n",
            " [0.01675072 0.42054618 0.64350885 ... 0.02617368 0.1041398  0.32939429]]\n",
            "[106 113 116 109 116]\n",
            "epoch_all 10\n",
            "[[33  0  0  1  0]\n",
            " [ 1 24  0  2  0]\n",
            " [ 0  2  3 19  0]\n",
            " [ 0  0  0 31  0]\n",
            " [ 0  0  0  0 24]]\n",
            "[[33  0  0  1  0]\n",
            " [ 1 26  0  0  0]\n",
            " [ 0  0 20  4  0]\n",
            " [ 0  0  3 28  0]\n",
            " [ 0  0  1  0 23]]\n",
            "[[33  0  0  1  0]\n",
            " [ 0 27  0  0  0]\n",
            " [ 0  0 17  7  0]\n",
            " [ 0  0  3 28  0]\n",
            " [ 0  0  0  0 24]]\n",
            "[[33  0  0  1  0]\n",
            " [ 0 27  0  0  0]\n",
            " [ 0  0 22  2  0]\n",
            " [ 0  0  6 25  0]\n",
            " [ 0  0  0  0 24]]\n",
            "[[33  0  0  1  0]\n",
            " [ 0 27  0  0  0]\n",
            " [ 0  0 20  4  0]\n",
            " [ 0  0  5 26  0]\n",
            " [ 0  0  0  0 24]]\n",
            "[[33  0  0  1  0]\n",
            " [ 0 27  0  0  0]\n",
            " [ 0  0 22  2  0]\n",
            " [ 0  0  7 24  0]\n",
            " [ 0  0  0  0 24]]\n",
            "[[33  0  0  1  0]\n",
            " [ 0 27  0  0  0]\n",
            " [ 0  0 21  3  0]\n",
            " [ 0  0  7 24  0]\n",
            " [ 0  0  0  0 24]]\n",
            "[[33  0  0  1  0]\n",
            " [ 0 27  0  0  0]\n",
            " [ 0  0 19  5  0]\n",
            " [ 0  0  3 28  0]\n",
            " [ 0  0  0  0 24]]\n",
            "[[33  0  0  1  0]\n",
            " [ 0 27  0  0  0]\n",
            " [ 0  0 20  4  0]\n",
            " [ 0  0  4 27  0]\n",
            " [ 0  0  0  0 24]]\n",
            "acctrain: 0.65178573\n",
            "[[33  0  0  1  0]\n",
            " [ 0 27  0  0  0]\n",
            " [ 0  0 20  4  0]\n",
            " [ 0  0  3 28  0]\n",
            " [ 0  0  0  0 24]]\n",
            "acctest: 0.94285715\n"
          ]
        },
        {
          "output_type": "display_data",
          "data": {
            "image/png": "[encoded data removed]",
            "text/plain": [
              "<Figure size 432x288 with 11 Axes>"
            ]
          },
          "metadata": {
            "needs_background": "light"
          }
        }
      ]
    },
    {
      "cell_type": "code",
      "source": [
        "rkf."
      ],
      "metadata": {
        "id": "ipT93Rh8DeNt"
      },
      "execution_count": null,
      "outputs": []
    },
    {
      "cell_type": "code",
      "source": [
        "import matplotlib.pyplot as pt"
      ],
      "metadata": {
        "id": "QarXKN3fjUZX"
      },
      "execution_count": 3,
      "outputs": []
    },
    {
      "cell_type": "markdown",
      "metadata": {
        "id": "IH00f6guifI1"
      },
      "source": [
        "# New Section"
      ]
    },
    {
      "cell_type": "markdown",
      "metadata": {
        "id": "-5aO_QTHlfbb"
      },
      "source": [
        ""
      ]
    },
    {
      "cell_type": "code",
      "execution_count": 66,
      "metadata": {
        "id": "TCashwzmuFZp",
        "colab": {
          "base_uri": "https://localhost:8080/"
        },
        "outputId": "ca0b37b0-4de4-4876-c937-d8778269c3fa"
      },
      "outputs": [
        {
          "output_type": "execute_result",
          "data": {
            "text/plain": [
              "torch.Size([140])"
            ]
          },
          "metadata": {},
          "execution_count": 66
        }
      ],
      "source": [
        "predictiont.shape"
      ]
    },
    {
      "cell_type": "code",
      "source": [
        "fpr = {}\n",
        "tpr = {}\n",
        "thresh ={}\n"
      ],
      "metadata": {
        "id": "pKAzjljhhcUl"
      },
      "execution_count": 62,
      "outputs": []
    },
    {
      "cell_type": "code",
      "source": [
        "\n",
        "n_class = 5\n",
        "\n",
        "for i in range(n_class):    \n",
        "    fpr[i], tpr[i], thresh[i] = roc_curve(y_truet, y_predt[:,i], pos_label=i)\n",
        "    \n"
      ],
      "metadata": {
        "id": "SiFUMaM_wg2U"
      },
      "execution_count": 63,
      "outputs": []
    },
    {
      "cell_type": "code",
      "source": [
        "ptt.plot(fpr[0], tpr[0], linestyle='--',color='black', label='Basal vs Rest')\n",
        "ptt.plot(fpr[1], tpr[1], linestyle='--',color='green', label='Her2 vs Rest')\n",
        "plt.plot(fpr[2], tpr[2], linestyle='--',color='blue', label='LumA vs Rest')\n",
        "\n",
        "plt.title('Breast Cancer Subtypes ROC curve')\n",
        "plt.xlabel('False Positive Rate')\n",
        "plt.ylabel('True Positive rate')\n"
      ],
      "metadata": {
        "colab": {
          "base_uri": "https://localhost:8080/"
        },
        "id": "LRWPXQiIjFnn",
        "outputId": "c7334c3b-a4e9-40b9-f04d-a0701f3a0170"
      },
      "execution_count": 14,
      "outputs": [
        {
          "output_type": "execute_result",
          "data": {
            "text/plain": [
              "Text(27.125, 0.5, 'True Positive rate')"
            ]
          },
          "metadata": {},
          "execution_count": 14
        }
      ]
    },
    {
      "cell_type": "code",
      "source": [
        "plt.legend(loc='best')\n",
        "plt.savefig('Multiclass1 ROC',dpi=300);  "
      ],
      "metadata": {
        "id": "pgWpZ-9jwifJ"
      },
      "execution_count": 16,
      "outputs": []
    },
    {
      "cell_type": "code",
      "source": [
        "from sklearn.metrics import confusion_matrix"
      ],
      "metadata": {
        "id": "UNTfpKnSU-gn"
      },
      "execution_count": 44,
      "outputs": []
    },
    {
      "cell_type": "code",
      "source": [
        "cm = confusion_matrix(y_truet, predictiont)\n",
        "print(cm)"
      ],
      "metadata": {
        "colab": {
          "base_uri": "https://localhost:8080/"
        },
        "id": "Q27eQmmtqdox",
        "outputId": "4ee97705-6b1f-4ef5-8ebc-cc7e13cceef7"
      },
      "execution_count": 70,
      "outputs": [
        {
          "output_type": "stream",
          "name": "stdout",
          "text": [
            "[[33  0  0  1  0]\n",
            " [ 0 27  0  0  0]\n",
            " [ 0  0 20  4  0]\n",
            " [ 0  0  3 28  0]\n",
            " [ 0  0  0  0 24]]\n"
          ]
        }
      ]
    },
    {
      "cell_type": "code",
      "source": [
        "cm_df = pd.DataFrame(cm,\n",
        "                     index = ['Basal','Her2','LumA','LumB','Unknown'], \n",
        "                     columns = ['Basal','Her2','LumA','LumB','Unknown'])"
      ],
      "metadata": {
        "id": "ybp_j8oNvHhK"
      },
      "execution_count": 71,
      "outputs": []
    },
    {
      "cell_type": "code",
      "source": [
        "import seaborn as sns\n",
        "sns_plot=sns.heatmap(cm_df, cmap= \"crest_r\", annot=True)"
      ],
      "metadata": {
        "id": "EpRDuyht9hiy",
        "colab": {
          "base_uri": "https://localhost:8080/",
          "height": 265
        },
        "outputId": "bac48447-2167-4410-cd75-5e7f5bece4f0"
      },
      "execution_count": 79,
      "outputs": [
        {
          "output_type": "display_data",
          "data": {
            "image/png": "[encoded data removed]",
            "text/plain": [
              "<Figure size 432x288 with 2 Axes>"
            ]
          },
          "metadata": {
            "needs_background": "light"
          }
        }
      ]
    },
    {
      "cell_type": "code",
      "source": [
        "fig = sns_plot.get_figure()\n",
        "fig.savefig(\"output1.png\")"
      ],
      "metadata": {
        "id": "TfFr1OLprsLL"
      },
      "execution_count": 98,
      "outputs": []
    },
    {
      "cell_type": "code",
      "execution_count": 97,
      "metadata": {
        "id": "AgFrxdbd2AZV",
        "colab": {
          "base_uri": "https://localhost:8080/",
          "height": 265
        },
        "outputId": "07385031-f13b-415f-eea8-f936f1a7b2c0"
      },
      "outputs": [
        {
          "output_type": "display_data",
          "data": {
            "image/png": "[encoded data removed]",
            "text/plain": [
              "<Figure size 432x288 with 2 Axes>"
            ]
          },
          "metadata": {
            "needs_background": "light"
          }
        }
      ],
      "source": [
        "import seaborn as sns\n",
        "sns_plot=sns.heatmap(cm_df, cmap= \"icefire\", annot=True)"
      ]
    },
    {
      "cell_type": "code",
      "source": [
        "import seaborn as sns\n",
        "sns_plot=sns.heatmap(cm_df, cmap= \"i\", annot=True)"
      ],
      "metadata": {
        "id": "Oo1xd10CJbkM",
        "outputId": "420a228d-04be-4d13-c808-721f4cc991e2",
        "colab": {
          "base_uri": "https://localhost:8080/",
          "height": 537
        }
      },
      "execution_count": 82,
      "outputs": [
        {
          "output_type": "error",
          "ename": "ValueError",
          "evalue": "ignored",
          "traceback": [
            "\u001b[0;31m---------------------------------------------------------------------------\u001b[0m",
            "\u001b[0;31mValueError\u001b[0m                                Traceback (most recent call last)",
            "\u001b[0;32m<ipython-input-82-713dfacfb5eb>\u001b[0m in \u001b[0;36m<module>\u001b[0;34m()\u001b[0m\n\u001b[1;32m      1\u001b[0m \u001b[0;32mimport\u001b[0m \u001b[0mseaborn\u001b[0m \u001b[0;32mas\u001b[0m \u001b[0msns\u001b[0m\u001b[0;34m\u001b[0m\u001b[0;34m\u001b[0m\u001b[0m\n\u001b[0;32m----> 2\u001b[0;31m \u001b[0msns_plot\u001b[0m\u001b[0;34m=\u001b[0m\u001b[0msns\u001b[0m\u001b[0;34m.\u001b[0m\u001b[0mheatmap\u001b[0m\u001b[0;34m(\u001b[0m\u001b[0mcm_df\u001b[0m\u001b[0;34m,\u001b[0m \u001b[0mcmap\u001b[0m\u001b[0;34m=\u001b[0m \u001b[0;34m\"i\"\u001b[0m\u001b[0;34m,\u001b[0m \u001b[0mannot\u001b[0m\u001b[0;34m=\u001b[0m\u001b[0;32mTrue\u001b[0m\u001b[0;34m)\u001b[0m\u001b[0;34m\u001b[0m\u001b[0;34m\u001b[0m\u001b[0m\n\u001b[0m",
            "\u001b[0;32m/usr/local/lib/python3.7/dist-packages/seaborn/_decorators.py\u001b[0m in \u001b[0;36minner_f\u001b[0;34m(*args, **kwargs)\u001b[0m\n\u001b[1;32m     44\u001b[0m             )\n\u001b[1;32m     45\u001b[0m         \u001b[0mkwargs\u001b[0m\u001b[0;34m.\u001b[0m\u001b[0mupdate\u001b[0m\u001b[0;34m(\u001b[0m\u001b[0;34m{\u001b[0m\u001b[0mk\u001b[0m\u001b[0;34m:\u001b[0m \u001b[0marg\u001b[0m \u001b[0;32mfor\u001b[0m \u001b[0mk\u001b[0m\u001b[0;34m,\u001b[0m \u001b[0marg\u001b[0m \u001b[0;32min\u001b[0m \u001b[0mzip\u001b[0m\u001b[0;34m(\u001b[0m\u001b[0msig\u001b[0m\u001b[0;34m.\u001b[0m\u001b[0mparameters\u001b[0m\u001b[0;34m,\u001b[0m \u001b[0margs\u001b[0m\u001b[0;34m)\u001b[0m\u001b[0;34m}\u001b[0m\u001b[0;34m)\u001b[0m\u001b[0;34m\u001b[0m\u001b[0;34m\u001b[0m\u001b[0m\n\u001b[0;32m---> 46\u001b[0;31m         \u001b[0;32mreturn\u001b[0m \u001b[0mf\u001b[0m\u001b[0;34m(\u001b[0m\u001b[0;34m**\u001b[0m\u001b[0mkwargs\u001b[0m\u001b[0;34m)\u001b[0m\u001b[0;34m\u001b[0m\u001b[0;34m\u001b[0m\u001b[0m\n\u001b[0m\u001b[1;32m     47\u001b[0m     \u001b[0;32mreturn\u001b[0m \u001b[0minner_f\u001b[0m\u001b[0;34m\u001b[0m\u001b[0;34m\u001b[0m\u001b[0m\n\u001b[1;32m     48\u001b[0m \u001b[0;34m\u001b[0m\u001b[0m\n",
            "\u001b[0;32m/usr/local/lib/python3.7/dist-packages/seaborn/matrix.py\u001b[0m in \u001b[0;36mheatmap\u001b[0;34m(data, vmin, vmax, cmap, center, robust, annot, fmt, annot_kws, linewidths, linecolor, cbar, cbar_kws, cbar_ax, square, xticklabels, yticklabels, mask, ax, **kwargs)\u001b[0m\n\u001b[1;32m    540\u001b[0m     plotter = _HeatMapper(data, vmin, vmax, cmap, center, robust, annot, fmt,\n\u001b[1;32m    541\u001b[0m                           \u001b[0mannot_kws\u001b[0m\u001b[0;34m,\u001b[0m \u001b[0mcbar\u001b[0m\u001b[0;34m,\u001b[0m \u001b[0mcbar_kws\u001b[0m\u001b[0;34m,\u001b[0m \u001b[0mxticklabels\u001b[0m\u001b[0;34m,\u001b[0m\u001b[0;34m\u001b[0m\u001b[0;34m\u001b[0m\u001b[0m\n\u001b[0;32m--> 542\u001b[0;31m                           yticklabels, mask)\n\u001b[0m\u001b[1;32m    543\u001b[0m \u001b[0;34m\u001b[0m\u001b[0m\n\u001b[1;32m    544\u001b[0m     \u001b[0;31m# Add the pcolormesh kwargs here\u001b[0m\u001b[0;34m\u001b[0m\u001b[0;34m\u001b[0m\u001b[0;34m\u001b[0m\u001b[0m\n",
            "\u001b[0;32m/usr/local/lib/python3.7/dist-packages/seaborn/matrix.py\u001b[0m in \u001b[0;36m__init__\u001b[0;34m(self, data, vmin, vmax, cmap, center, robust, annot, fmt, annot_kws, cbar, cbar_kws, xticklabels, yticklabels, mask)\u001b[0m\n\u001b[1;32m    158\u001b[0m         \u001b[0;31m# Determine good default values for the colormapping\u001b[0m\u001b[0;34m\u001b[0m\u001b[0;34m\u001b[0m\u001b[0;34m\u001b[0m\u001b[0m\n\u001b[1;32m    159\u001b[0m         self._determine_cmap_params(plot_data, vmin, vmax,\n\u001b[0;32m--> 160\u001b[0;31m                                     cmap, center, robust)\n\u001b[0m\u001b[1;32m    161\u001b[0m \u001b[0;34m\u001b[0m\u001b[0m\n\u001b[1;32m    162\u001b[0m         \u001b[0;31m# Sort out the annotations\u001b[0m\u001b[0;34m\u001b[0m\u001b[0;34m\u001b[0m\u001b[0;34m\u001b[0m\u001b[0m\n",
            "\u001b[0;32m/usr/local/lib/python3.7/dist-packages/seaborn/matrix.py\u001b[0m in \u001b[0;36m_determine_cmap_params\u001b[0;34m(self, plot_data, vmin, vmax, cmap, center, robust)\u001b[0m\n\u001b[1;32m    211\u001b[0m                 \u001b[0mself\u001b[0m\u001b[0;34m.\u001b[0m\u001b[0mcmap\u001b[0m \u001b[0;34m=\u001b[0m \u001b[0mcm\u001b[0m\u001b[0;34m.\u001b[0m\u001b[0micefire\u001b[0m\u001b[0;34m\u001b[0m\u001b[0;34m\u001b[0m\u001b[0m\n\u001b[1;32m    212\u001b[0m         \u001b[0;32melif\u001b[0m \u001b[0misinstance\u001b[0m\u001b[0;34m(\u001b[0m\u001b[0mcmap\u001b[0m\u001b[0;34m,\u001b[0m \u001b[0mstr\u001b[0m\u001b[0;34m)\u001b[0m\u001b[0;34m:\u001b[0m\u001b[0;34m\u001b[0m\u001b[0;34m\u001b[0m\u001b[0m\n\u001b[0;32m--> 213\u001b[0;31m             \u001b[0mself\u001b[0m\u001b[0;34m.\u001b[0m\u001b[0mcmap\u001b[0m \u001b[0;34m=\u001b[0m \u001b[0mmpl\u001b[0m\u001b[0;34m.\u001b[0m\u001b[0mcm\u001b[0m\u001b[0;34m.\u001b[0m\u001b[0mget_cmap\u001b[0m\u001b[0;34m(\u001b[0m\u001b[0mcmap\u001b[0m\u001b[0;34m)\u001b[0m\u001b[0;34m\u001b[0m\u001b[0;34m\u001b[0m\u001b[0m\n\u001b[0m\u001b[1;32m    214\u001b[0m         \u001b[0;32melif\u001b[0m \u001b[0misinstance\u001b[0m\u001b[0;34m(\u001b[0m\u001b[0mcmap\u001b[0m\u001b[0;34m,\u001b[0m \u001b[0mlist\u001b[0m\u001b[0;34m)\u001b[0m\u001b[0;34m:\u001b[0m\u001b[0;34m\u001b[0m\u001b[0;34m\u001b[0m\u001b[0m\n\u001b[1;32m    215\u001b[0m             \u001b[0mself\u001b[0m\u001b[0;34m.\u001b[0m\u001b[0mcmap\u001b[0m \u001b[0;34m=\u001b[0m \u001b[0mmpl\u001b[0m\u001b[0;34m.\u001b[0m\u001b[0mcolors\u001b[0m\u001b[0;34m.\u001b[0m\u001b[0mListedColormap\u001b[0m\u001b[0;34m(\u001b[0m\u001b[0mcmap\u001b[0m\u001b[0;34m)\u001b[0m\u001b[0;34m\u001b[0m\u001b[0;34m\u001b[0m\u001b[0m\n",
            "\u001b[0;32m/usr/local/lib/python3.7/dist-packages/matplotlib/cm.py\u001b[0m in \u001b[0;36mget_cmap\u001b[0;34m(name, lut)\u001b[0m\n\u001b[1;32m    132\u001b[0m     \u001b[0;32mif\u001b[0m \u001b[0misinstance\u001b[0m\u001b[0;34m(\u001b[0m\u001b[0mname\u001b[0m\u001b[0;34m,\u001b[0m \u001b[0mcolors\u001b[0m\u001b[0;34m.\u001b[0m\u001b[0mColormap\u001b[0m\u001b[0;34m)\u001b[0m\u001b[0;34m:\u001b[0m\u001b[0;34m\u001b[0m\u001b[0;34m\u001b[0m\u001b[0m\n\u001b[1;32m    133\u001b[0m         \u001b[0;32mreturn\u001b[0m \u001b[0mname\u001b[0m\u001b[0;34m\u001b[0m\u001b[0;34m\u001b[0m\u001b[0m\n\u001b[0;32m--> 134\u001b[0;31m     \u001b[0mcbook\u001b[0m\u001b[0;34m.\u001b[0m\u001b[0m_check_in_list\u001b[0m\u001b[0;34m(\u001b[0m\u001b[0msorted\u001b[0m\u001b[0;34m(\u001b[0m\u001b[0mcmap_d\u001b[0m\u001b[0;34m)\u001b[0m\u001b[0;34m,\u001b[0m \u001b[0mname\u001b[0m\u001b[0;34m=\u001b[0m\u001b[0mname\u001b[0m\u001b[0;34m)\u001b[0m\u001b[0;34m\u001b[0m\u001b[0;34m\u001b[0m\u001b[0m\n\u001b[0m\u001b[1;32m    135\u001b[0m     \u001b[0;32mif\u001b[0m \u001b[0mlut\u001b[0m \u001b[0;32mis\u001b[0m \u001b[0;32mNone\u001b[0m\u001b[0;34m:\u001b[0m\u001b[0;34m\u001b[0m\u001b[0;34m\u001b[0m\u001b[0m\n\u001b[1;32m    136\u001b[0m         \u001b[0;32mreturn\u001b[0m \u001b[0mcmap_d\u001b[0m\u001b[0;34m[\u001b[0m\u001b[0mname\u001b[0m\u001b[0;34m]\u001b[0m\u001b[0;34m\u001b[0m\u001b[0;34m\u001b[0m\u001b[0m\n",
            "\u001b[0;32m/usr/local/lib/python3.7/dist-packages/matplotlib/cbook/__init__.py\u001b[0m in \u001b[0;36m_check_in_list\u001b[0;34m(_values, **kwargs)\u001b[0m\n\u001b[1;32m   2143\u001b[0m             raise ValueError(\n\u001b[1;32m   2144\u001b[0m                 \u001b[0;34m\"{!r} is not a valid value for {}; supported values are {}\"\u001b[0m\u001b[0;34m\u001b[0m\u001b[0;34m\u001b[0m\u001b[0m\n\u001b[0;32m-> 2145\u001b[0;31m                 .format(v, k, ', '.join(map(repr, values))))\n\u001b[0m\u001b[1;32m   2146\u001b[0m \u001b[0;34m\u001b[0m\u001b[0m\n\u001b[1;32m   2147\u001b[0m \u001b[0;34m\u001b[0m\u001b[0m\n",
            "\u001b[0;31mValueError\u001b[0m: 'i' is not a valid value for name; supported values are 'Accent', 'Accent_r', 'Blues', 'Blues_r', 'BrBG', 'BrBG_r', 'BuGn', 'BuGn_r', 'BuPu', 'BuPu_r', 'CMRmap', 'CMRmap_r', 'Dark2', 'Dark2_r', 'GnBu', 'GnBu_r', 'Greens', 'Greens_r', 'Greys', 'Greys_r', 'OrRd', 'OrRd_r', 'Oranges', 'Oranges_r', 'PRGn', 'PRGn_r', 'Paired', 'Paired_r', 'Pastel1', 'Pastel1_r', 'Pastel2', 'Pastel2_r', 'PiYG', 'PiYG_r', 'PuBu', 'PuBuGn', 'PuBuGn_r', 'PuBu_r', 'PuOr', 'PuOr_r', 'PuRd', 'PuRd_r', 'Purples', 'Purples_r', 'RdBu', 'RdBu_r', 'RdGy', 'RdGy_r', 'RdPu', 'RdPu_r', 'RdYlBu', 'RdYlBu_r', 'RdYlGn', 'RdYlGn_r', 'Reds', 'Reds_r', 'Set1', 'Set1_r', 'Set2', 'Set2_r', 'Set3', 'Set3_r', 'Spectral', 'Spectral_r', 'Wistia', 'Wistia_r', 'YlGn', 'YlGnBu', 'YlGnBu_r', 'YlGn_r', 'YlOrBr', 'YlOrBr_r', 'YlOrRd', 'YlOrRd_r', 'afmhot', 'afmhot_r', 'autumn', 'autumn_r', 'binary', 'binary_r', 'bone', 'bone_r', 'brg', 'brg_r', 'bwr', 'bwr_r', 'cividis', 'cividis_r', 'cool', 'cool_r', 'coolwarm', 'coolwarm_r', 'copper', 'copper_r', 'crest', 'crest_r', 'cubehelix', 'cubehelix_r', 'flag', 'flag_r', 'flare', 'flare_r', 'gist_earth', 'gist_earth_r', 'gist_gray', 'gist_gray_r', 'gist_heat', 'gist_heat_r', 'gist_ncar', 'gist_ncar_r', 'gist_rainbow', 'gist_rainbow_r', 'gist_stern', 'gist_stern_r', 'gist_yarg', 'gist_yarg_r', 'gnuplot', 'gnuplot2', 'gnuplot2_r', 'gnuplot_r', 'gray', 'gray_r', 'hot', 'hot_r', 'hsv', 'hsv_r', 'icefire', 'icefire_r', 'inferno', 'inferno_r', 'jet', 'jet_r', 'magma',..."
          ]
        }
      ]
    },
    {
      "cell_type": "code",
      "execution_count": 96,
      "metadata": {
        "id": "tCx16UcVrzbe",
        "colab": {
          "base_uri": "https://localhost:8080/",
          "height": 265
        },
        "outputId": "7aba8320-58aa-42c7-ba8f-623eb493640f"
      },
      "outputs": [
        {
          "output_type": "display_data",
          "data": {
            "image/png": "[encoded data removed]",
            "text/plain": [
              "<Figure size 432x288 with 2 Axes>"
            ]
          },
          "metadata": {
            "needs_background": "light"
          }
        }
      ],
      "source": [
        "import seaborn as sns\n",
        "sns_plot=sns.heatmap(cm_df, cmap= \"Pastel2\", annot=True)"
      ]
    }
  ],
  "metadata": {
    "colab": {
      "name": "Subtype_revised.ipynb",
      "provenance": [],
      "machine_shape": "hm"
    },
    "kernelspec": {
      "display_name": "Python 3",
      "name": "python3"
    },
    "language_info": {
      "name": "python"
    },
    "accelerator": "GPU"
  },
  "nbformat": 4,
  "nbformat_minor": 0
}