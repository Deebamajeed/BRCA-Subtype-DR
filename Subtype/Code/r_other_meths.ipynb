{
  "nbformat": 4,
  "nbformat_minor": 0,
  "metadata": {
    "colab": {
      "name": "r_other_meths.ipynb",
      "provenance": []
    },
    "kernelspec": {
      "name": "ir",
      "display_name": "R"
    }
  },
  "cells": [
    {
      "cell_type": "markdown",
      "metadata": {
        "id": "035qx2dNUxaZ"
      },
      "source": [
        "# New Section"
      ]
    },
    {
      "cell_type": "code",
      "metadata": {
        "id": "51VGzFhuXpPT",
        "colab": {
          "base_uri": "https://localhost:8080/"
        },
        "outputId": "cdb3b46a-2311-41c5-9892-b33a09ab3a38"
      },
      "source": [
        "if (!requireNamespace(\"BiocManager\", quietly = TRUE))\n",
        "    install.packages(\"BiocManager\")\n",
        " \n"
      ],
      "execution_count": null,
      "outputs": [
        {
          "output_type": "stream",
          "name": "stderr",
          "text": [
            "Installing package into ‘/usr/local/lib/R/site-library’\n",
            "(as ‘lib’ is unspecified)\n",
            "\n"
          ]
        }
      ]
    },
    {
      "cell_type": "code",
      "metadata": {
        "colab": {
          "base_uri": "https://localhost:8080/"
        },
        "id": "aKFM-oDvpoh7",
        "outputId": "64b255a7-2997-4942-b7e3-a2c8f1ad3697"
      },
      "source": [
        "BiocManager::install(\"Biobase\")"
      ],
      "execution_count": null,
      "outputs": [
        {
          "output_type": "stream",
          "name": "stderr",
          "text": [
            "'getOption(\"repos\")' replaces Bioconductor standard repositories, see\n",
            "'?repositories' for details\n",
            "\n",
            "replacement repositories:\n",
            "    CRAN: https://cran.rstudio.com\n",
            "\n",
            "\n",
            "Bioconductor version 3.14 (BiocManager 1.30.16), R 4.1.2 (2021-11-01)\n",
            "\n",
            "Installing package(s) 'BiocVersion', 'Biobase'\n",
            "\n",
            "also installing the dependency ‘BiocGenerics’\n",
            "\n",
            "\n",
            "Old packages: 'backports', 'brio', 'cpp11', 'credentials', 'devtools',\n",
            "  'digest', 'dtplyr', 'fs', 'glue', 'memoise', 'openssl', 'pkgbuild',\n",
            "  'pkgload', 'readr', 'remotes', 'stringi', 'testthat', 'vroom', 'withr',\n",
            "  'xml2', 'nlme'\n",
            "\n"
          ]
        }
      ]
    },
    {
      "cell_type": "code",
      "metadata": {
        "colab": {
          "base_uri": "https://localhost:8080/"
        },
        "id": "EN19HymCzsfJ",
        "outputId": "2e251b3a-249e-42e8-d3f2-429e287094bd"
      },
      "source": [
        "BiocManager::install(\"glmnet\")\n",
        "BiocManager::install(\"caret\")\n",
        "BiocManager::install(\"plyr\")\n",
        "BiocManager::install(\"ROCR\")\n",
        "BiocManager::install(\"ROSE\")\n"
      ],
      "execution_count": null,
      "outputs": [
        {
          "output_type": "stream",
          "name": "stderr",
          "text": [
            "'getOption(\"repos\")' replaces Bioconductor standard repositories, see\n",
            "'?repositories' for details\n",
            "\n",
            "replacement repositories:\n",
            "    CRAN: https://cran.rstudio.com\n",
            "\n",
            "\n",
            "Bioconductor version 3.14 (BiocManager 1.30.16), R 4.1.2 (2021-11-01)\n",
            "\n",
            "Installing package(s) 'glmnet'\n",
            "\n",
            "also installing the dependencies ‘iterators’, ‘foreach’, ‘shape’, ‘RcppEigen’\n",
            "\n",
            "\n",
            "Old packages: 'backports', 'brio', 'cpp11', 'credentials', 'devtools',\n",
            "  'digest', 'dtplyr', 'fs', 'glue', 'memoise', 'openssl', 'pkgbuild',\n",
            "  'pkgload', 'readr', 'remotes', 'stringi', 'testthat', 'vroom', 'withr',\n",
            "  'xml2', 'nlme'\n",
            "\n",
            "'getOption(\"repos\")' replaces Bioconductor standard repositories, see\n",
            "'?repositories' for details\n",
            "\n",
            "replacement repositories:\n",
            "    CRAN: https://cran.rstudio.com\n",
            "\n",
            "\n",
            "Bioconductor version 3.14 (BiocManager 1.30.16), R 4.1.2 (2021-11-01)\n",
            "\n",
            "Installing package(s) 'caret'\n",
            "\n",
            "also installing the dependencies ‘listenv’, ‘parallelly’, ‘future’, ‘globals’, ‘future.apply’, ‘progressr’, ‘numDeriv’, ‘SQUAREM’, ‘lava’, ‘prodlim’, ‘proxy’, ‘gower’, ‘ipred’, ‘timeDate’, ‘e1071’, ‘ModelMetrics’, ‘plyr’, ‘pROC’, ‘recipes’, ‘reshape2’\n",
            "\n",
            "\n",
            "Old packages: 'backports', 'brio', 'cpp11', 'credentials', 'devtools',\n",
            "  'digest', 'dtplyr', 'fs', 'glue', 'memoise', 'openssl', 'pkgbuild',\n",
            "  'pkgload', 'readr', 'remotes', 'stringi', 'testthat', 'vroom', 'withr',\n",
            "  'xml2', 'nlme'\n",
            "\n",
            "'getOption(\"repos\")' replaces Bioconductor standard repositories, see\n",
            "'?repositories' for details\n",
            "\n",
            "replacement repositories:\n",
            "    CRAN: https://cran.rstudio.com\n",
            "\n",
            "\n",
            "Bioconductor version 3.14 (BiocManager 1.30.16), R 4.1.2 (2021-11-01)\n",
            "\n",
            "Warning message:\n",
            "“package(s) not installed when version(s) same as current; use `force = TRUE` to\n",
            "  re-install: 'plyr'”\n",
            "Old packages: 'backports', 'brio', 'cpp11', 'credentials', 'devtools',\n",
            "  'digest', 'dtplyr', 'fs', 'glue', 'memoise', 'openssl', 'pkgbuild',\n",
            "  'pkgload', 'readr', 'remotes', 'stringi', 'testthat', 'vroom', 'withr',\n",
            "  'xml2', 'nlme'\n",
            "\n",
            "'getOption(\"repos\")' replaces Bioconductor standard repositories, see\n",
            "'?repositories' for details\n",
            "\n",
            "replacement repositories:\n",
            "    CRAN: https://cran.rstudio.com\n",
            "\n",
            "\n",
            "Bioconductor version 3.14 (BiocManager 1.30.16), R 4.1.2 (2021-11-01)\n",
            "\n",
            "Installing package(s) 'ROCR'\n",
            "\n",
            "also installing the dependencies ‘bitops’, ‘gtools’, ‘caTools’, ‘gplots’\n",
            "\n",
            "\n",
            "Old packages: 'backports', 'brio', 'cpp11', 'credentials', 'devtools',\n",
            "  'digest', 'dtplyr', 'fs', 'glue', 'memoise', 'openssl', 'pkgbuild',\n",
            "  'pkgload', 'readr', 'remotes', 'stringi', 'testthat', 'vroom', 'withr',\n",
            "  'xml2', 'nlme'\n",
            "\n",
            "'getOption(\"repos\")' replaces Bioconductor standard repositories, see\n",
            "'?repositories' for details\n",
            "\n",
            "replacement repositories:\n",
            "    CRAN: https://cran.rstudio.com\n",
            "\n",
            "\n",
            "Bioconductor version 3.14 (BiocManager 1.30.16), R 4.1.2 (2021-11-01)\n",
            "\n",
            "Installing package(s) 'ROSE'\n",
            "\n",
            "Old packages: 'backports', 'brio', 'cpp11', 'credentials', 'devtools',\n",
            "  'digest', 'dtplyr', 'fs', 'glue', 'memoise', 'openssl', 'pkgbuild',\n",
            "  'pkgload', 'readr', 'remotes', 'stringi', 'testthat', 'vroom', 'withr',\n",
            "  'xml2', 'nlme'\n",
            "\n"
          ]
        }
      ]
    },
    {
      "cell_type": "code",
      "metadata": {
        "colab": {
          "base_uri": "https://localhost:8080/"
        },
        "id": "u1PtK9J1Eflx",
        "outputId": "bb0b6e70-7b30-4b74-fd07-9d9c0eb4f9ad"
      },
      "source": [
        "BiocManager::install(\"randomForest\")"
      ],
      "execution_count": null,
      "outputs": [
        {
          "output_type": "stream",
          "name": "stderr",
          "text": [
            "'getOption(\"repos\")' replaces Bioconductor standard repositories, see\n",
            "'?repositories' for details\n",
            "\n",
            "replacement repositories:\n",
            "    CRAN: https://cran.rstudio.com\n",
            "\n",
            "\n",
            "Bioconductor version 3.14 (BiocManager 1.30.16), R 4.1.2 (2021-11-01)\n",
            "\n",
            "Installing package(s) 'randomForest'\n",
            "\n",
            "Old packages: 'backports', 'brio', 'cpp11', 'credentials', 'devtools',\n",
            "  'digest', 'dtplyr', 'fs', 'glue', 'memoise', 'openssl', 'pkgbuild',\n",
            "  'pkgload', 'readr', 'remotes', 'stringi', 'testthat', 'vroom', 'withr',\n",
            "  'xml2', 'nlme'\n",
            "\n"
          ]
        }
      ]
    },
    {
      "cell_type": "code",
      "metadata": {
        "colab": {
          "base_uri": "https://localhost:8080/"
        },
        "id": "RNuagMv5PjmH",
        "outputId": "5a38815a-f176-4f19-811b-24ca8dcfdcff"
      },
      "source": [
        "BiocManager::install(\"glmnet\",force=TRUE)"
      ],
      "execution_count": null,
      "outputs": [
        {
          "output_type": "stream",
          "name": "stderr",
          "text": [
            "'getOption(\"repos\")' replaces Bioconductor standard repositories, see\n",
            "'?repositories' for details\n",
            "\n",
            "replacement repositories:\n",
            "    CRAN: https://cran.rstudio.com\n",
            "\n",
            "\n",
            "Bioconductor version 3.14 (BiocManager 1.30.16), R 4.1.2 (2021-11-01)\n",
            "\n",
            "Installing package(s) 'glmnet'\n",
            "\n",
            "Old packages: 'backports', 'brio', 'cpp11', 'credentials', 'devtools',\n",
            "  'digest', 'dtplyr', 'fs', 'glue', 'memoise', 'openssl', 'pkgbuild',\n",
            "  'pkgload', 'readr', 'remotes', 'stringi', 'testthat', 'vroom', 'withr',\n",
            "  'xml2', 'nlme'\n",
            "\n"
          ]
        }
      ]
    },
    {
      "cell_type": "code",
      "metadata": {
        "colab": {
          "base_uri": "https://localhost:8080/"
        },
        "id": "PZXLute6QlfG",
        "outputId": "adae755b-3c00-42be-a282-6949a1709e96"
      },
      "source": [
        "library(glmnet)\n",
        "library(caret)\n",
        "library(plyr)\n",
        "library(ROCR)\n",
        "library(ROSE)\n",
        "library(randomForest)\n"
      ],
      "execution_count": null,
      "outputs": [
        {
          "output_type": "stream",
          "name": "stderr",
          "text": [
            "Loading required package: Matrix\n",
            "\n",
            "Loaded glmnet 4.1-3\n",
            "\n",
            "Loading required package: ggplot2\n",
            "\n",
            "Loading required package: lattice\n",
            "\n",
            "Warning message in system(\"timedatectl\", intern = TRUE):\n",
            "“running command 'timedatectl' had status 1”\n",
            "Loaded ROSE 0.0-4\n",
            "\n",
            "\n",
            "randomForest 4.6-14\n",
            "\n",
            "Type rfNews() to see new features/changes/bug fixes.\n",
            "\n",
            "\n",
            "Attaching package: ‘randomForest’\n",
            "\n",
            "\n",
            "The following object is masked from ‘package:ggplot2’:\n",
            "\n",
            "    margin\n",
            "\n",
            "\n"
          ]
        }
      ]
    },
    {
      "cell_type": "code",
      "metadata": {
        "id": "IDoMgvNF0OuD"
      },
      "source": [
        "data<-read.csv(\"/content/train_label.csv\",header=F,row.names=1)"
      ],
      "execution_count": null,
      "outputs": []
    },
    {
      "cell_type": "code",
      "metadata": {
        "id": "lDXFm7-uK7N0"
      },
      "source": [
        "set.seed(123)"
      ],
      "execution_count": null,
      "outputs": []
    },
    {
      "cell_type": "code",
      "metadata": {
        "id": "8L_vwKtqpuER"
      },
      "source": [
        "datadf1=as.data.frame(rbind(as.matrix(data[0:270])))\n",
        "label<-data[271]"
      ],
      "execution_count": null,
      "outputs": []
    },
    {
      "cell_type": "code",
      "metadata": {
        "colab": {
          "base_uri": "https://localhost:8080/"
        },
        "id": "DSw9MAu9MJms",
        "outputId": "4abab023-ee37-489e-8490-f9e8df412911"
      },
      "source": [
        "install.packages(\"caTools\")"
      ],
      "execution_count": null,
      "outputs": [
        {
          "output_type": "stream",
          "name": "stderr",
          "text": [
            "Installing package into ‘/usr/local/lib/R/site-library’\n",
            "(as ‘lib’ is unspecified)\n",
            "\n"
          ]
        }
      ]
    },
    {
      "cell_type": "code",
      "metadata": {
        "id": "Sp9zYgnj4e1h"
      },
      "source": [
        " library(caTools)\n",
        " spl=sample.split(data,SplitRatio=0.8)"
      ],
      "execution_count": null,
      "outputs": []
    },
    {
      "cell_type": "code",
      "metadata": {
        "id": "W7pgEHKLM7jc"
      },
      "source": [
        "train=subset(data, spl==TRUE) \n",
        "test=subset(data, spl==FALSE)"
      ],
      "execution_count": null,
      "outputs": []
    },
    {
      "cell_type": "code",
      "metadata": {
        "colab": {
          "base_uri": "https://localhost:8080/",
          "height": 306
        },
        "id": "OywLX1TspDfC",
        "outputId": "26c3498e-e6fb-4f91-90fe-de5c15b4248d"
      },
      "source": [
        "head(train)"
      ],
      "execution_count": null,
      "outputs": [
        {
          "output_type": "display_data",
          "data": {
            "text/plain": [
              "  V2         V3          V4         V5          V6         V7        \n",
              "0  0.2599979 -0.19839129  0.8766408 -0.20829183 1.18146356 -0.2626739\n",
              "1 -0.3434970  0.02680334 -2.5290355  0.08497393 0.71406825  0.2983478\n",
              "2  0.1030364  0.75553598 -3.6530814 -0.40422140 0.08872642 -0.6589510\n",
              "5  0.1082522  0.26712887  0.4477779 -0.19150383 1.98873754  1.7528873\n",
              "6 -0.5384167  0.01782542 -0.6050667  0.04915754 0.94487888  1.4037623\n",
              "8 -0.1923855 -0.65664651  0.2597178  0.11226672 0.28370704 -0.7964421\n",
              "  V8         V9         V10        V11         ⋯ V263       V264        \n",
              "0  0.8061924  0.7040547  0.2533284  0.06549212 ⋯  1.0200687 -0.068760751\n",
              "1  1.0318661 -0.1668313 -0.1305015 -0.83384135 ⋯  0.3816775  0.235017317\n",
              "2  1.5344165  0.5213382  0.8833076 -0.16368383 ⋯  0.4971795  0.008024128\n",
              "5  0.6185244  1.3085474 -0.2775673 -0.23331868 ⋯ -1.2898071 -0.217406375\n",
              "6 -0.2230166  1.1105029 -0.1701778 -0.68552899 ⋯ -1.3422536 -0.301548098\n",
              "8  0.6119455  2.4633029 -0.7093318  0.89357013 ⋯ -0.3540661 -0.011792252\n",
              "  V265       V266        V267        V268       V269        V270      \n",
              "0  1.3056287  0.18575621 -0.85831772 -0.4080634 -0.10139532 -0.2665073\n",
              "1 -0.6653484  0.18825235 -0.94842730 -0.1190390 -0.09549131  0.2687767\n",
              "2 -0.6368140 -0.45127831 -0.47583032  0.1365121 -0.10046451 -0.4343670\n",
              "5 -0.1168523 -0.59109656 -1.36836712 -0.1774037 -0.10015661  1.7010429\n",
              "6 -0.6430379  0.09856482 -0.99432212 -0.1996009 -0.07482677 -0.4451437\n",
              "8 -0.6586043  0.41130977 -0.05011127  0.7830506 -0.10002280 -0.3861716\n",
              "  V271         V272\n",
              "0  1.001205044 2   \n",
              "1 -0.005900114 2   \n",
              "2  0.019610229 2   \n",
              "5 -0.346453978 3   \n",
              "6  0.361030375 3   \n",
              "8 -0.770673850 2   "
            ],
            "text/latex": "A data.frame: 6 × 271\n\\begin{tabular}{r|lllllllllllllllllllll}\n  & V2 & V3 & V4 & V5 & V6 & V7 & V8 & V9 & V10 & V11 & ⋯ & V263 & V264 & V265 & V266 & V267 & V268 & V269 & V270 & V271 & V272\\\\\n  & <dbl> & <dbl> & <dbl> & <dbl> & <dbl> & <dbl> & <dbl> & <dbl> & <dbl> & <dbl> & ⋯ & <dbl> & <dbl> & <dbl> & <dbl> & <dbl> & <dbl> & <dbl> & <dbl> & <dbl> & <int>\\\\\n\\hline\n\t0 &  0.2599979 & -0.19839129 &  0.8766408 & -0.20829183 & 1.18146356 & -0.2626739 &  0.8061924 &  0.7040547 &  0.2533284 &  0.06549212 & ⋯ &  1.0200687 & -0.068760751 &  1.3056287 &  0.18575621 & -0.85831772 & -0.4080634 & -0.10139532 & -0.2665073 &  1.001205044 & 2\\\\\n\t1 & -0.3434970 &  0.02680334 & -2.5290355 &  0.08497393 & 0.71406825 &  0.2983478 &  1.0318661 & -0.1668313 & -0.1305015 & -0.83384135 & ⋯ &  0.3816775 &  0.235017317 & -0.6653484 &  0.18825235 & -0.94842730 & -0.1190390 & -0.09549131 &  0.2687767 & -0.005900114 & 2\\\\\n\t2 &  0.1030364 &  0.75553598 & -3.6530814 & -0.40422140 & 0.08872642 & -0.6589510 &  1.5344165 &  0.5213382 &  0.8833076 & -0.16368383 & ⋯ &  0.4971795 &  0.008024128 & -0.6368140 & -0.45127831 & -0.47583032 &  0.1365121 & -0.10046451 & -0.4343670 &  0.019610229 & 2\\\\\n\t5 &  0.1082522 &  0.26712887 &  0.4477779 & -0.19150383 & 1.98873754 &  1.7528873 &  0.6185244 &  1.3085474 & -0.2775673 & -0.23331868 & ⋯ & -1.2898071 & -0.217406375 & -0.1168523 & -0.59109656 & -1.36836712 & -0.1774037 & -0.10015661 &  1.7010429 & -0.346453978 & 3\\\\\n\t6 & -0.5384167 &  0.01782542 & -0.6050667 &  0.04915754 & 0.94487888 &  1.4037623 & -0.2230166 &  1.1105029 & -0.1701778 & -0.68552899 & ⋯ & -1.3422536 & -0.301548098 & -0.6430379 &  0.09856482 & -0.99432212 & -0.1996009 & -0.07482677 & -0.4451437 &  0.361030375 & 3\\\\\n\t8 & -0.1923855 & -0.65664651 &  0.2597178 &  0.11226672 & 0.28370704 & -0.7964421 &  0.6119455 &  2.4633029 & -0.7093318 &  0.89357013 & ⋯ & -0.3540661 & -0.011792252 & -0.6586043 &  0.41130977 & -0.05011127 &  0.7830506 & -0.10002280 & -0.3861716 & -0.770673850 & 2\\\\\n\\end{tabular}\n",
            "text/markdown": "\nA data.frame: 6 × 271\n\n| <!--/--> | V2 &lt;dbl&gt; | V3 &lt;dbl&gt; | V4 &lt;dbl&gt; | V5 &lt;dbl&gt; | V6 &lt;dbl&gt; | V7 &lt;dbl&gt; | V8 &lt;dbl&gt; | V9 &lt;dbl&gt; | V10 &lt;dbl&gt; | V11 &lt;dbl&gt; | ⋯ ⋯ | V263 &lt;dbl&gt; | V264 &lt;dbl&gt; | V265 &lt;dbl&gt; | V266 &lt;dbl&gt; | V267 &lt;dbl&gt; | V268 &lt;dbl&gt; | V269 &lt;dbl&gt; | V270 &lt;dbl&gt; | V271 &lt;dbl&gt; | V272 &lt;int&gt; |\n|---|---|---|---|---|---|---|---|---|---|---|---|---|---|---|---|---|---|---|---|---|---|\n| 0 |  0.2599979 | -0.19839129 |  0.8766408 | -0.20829183 | 1.18146356 | -0.2626739 |  0.8061924 |  0.7040547 |  0.2533284 |  0.06549212 | ⋯ |  1.0200687 | -0.068760751 |  1.3056287 |  0.18575621 | -0.85831772 | -0.4080634 | -0.10139532 | -0.2665073 |  1.001205044 | 2 |\n| 1 | -0.3434970 |  0.02680334 | -2.5290355 |  0.08497393 | 0.71406825 |  0.2983478 |  1.0318661 | -0.1668313 | -0.1305015 | -0.83384135 | ⋯ |  0.3816775 |  0.235017317 | -0.6653484 |  0.18825235 | -0.94842730 | -0.1190390 | -0.09549131 |  0.2687767 | -0.005900114 | 2 |\n| 2 |  0.1030364 |  0.75553598 | -3.6530814 | -0.40422140 | 0.08872642 | -0.6589510 |  1.5344165 |  0.5213382 |  0.8833076 | -0.16368383 | ⋯ |  0.4971795 |  0.008024128 | -0.6368140 | -0.45127831 | -0.47583032 |  0.1365121 | -0.10046451 | -0.4343670 |  0.019610229 | 2 |\n| 5 |  0.1082522 |  0.26712887 |  0.4477779 | -0.19150383 | 1.98873754 |  1.7528873 |  0.6185244 |  1.3085474 | -0.2775673 | -0.23331868 | ⋯ | -1.2898071 | -0.217406375 | -0.1168523 | -0.59109656 | -1.36836712 | -0.1774037 | -0.10015661 |  1.7010429 | -0.346453978 | 3 |\n| 6 | -0.5384167 |  0.01782542 | -0.6050667 |  0.04915754 | 0.94487888 |  1.4037623 | -0.2230166 |  1.1105029 | -0.1701778 | -0.68552899 | ⋯ | -1.3422536 | -0.301548098 | -0.6430379 |  0.09856482 | -0.99432212 | -0.1996009 | -0.07482677 | -0.4451437 |  0.361030375 | 3 |\n| 8 | -0.1923855 | -0.65664651 |  0.2597178 |  0.11226672 | 0.28370704 | -0.7964421 |  0.6119455 |  2.4633029 | -0.7093318 |  0.89357013 | ⋯ | -0.3540661 | -0.011792252 | -0.6586043 |  0.41130977 | -0.05011127 |  0.7830506 | -0.10002280 | -0.3861716 | -0.770673850 | 2 |\n\n",
            "text/html": [
              "<table class=\"dataframe\">\n",
              "<caption>A data.frame: 6 × 271</caption>\n",
              "<thead>\n",
              "\t<tr><th></th><th scope=col>V2</th><th scope=col>V3</th><th scope=col>V4</th><th scope=col>V5</th><th scope=col>V6</th><th scope=col>V7</th><th scope=col>V8</th><th scope=col>V9</th><th scope=col>V10</th><th scope=col>V11</th><th scope=col>⋯</th><th scope=col>V263</th><th scope=col>V264</th><th scope=col>V265</th><th scope=col>V266</th><th scope=col>V267</th><th scope=col>V268</th><th scope=col>V269</th><th scope=col>V270</th><th scope=col>V271</th><th scope=col>V272</th></tr>\n",
              "\t<tr><th></th><th scope=col>&lt;dbl&gt;</th><th scope=col>&lt;dbl&gt;</th><th scope=col>&lt;dbl&gt;</th><th scope=col>&lt;dbl&gt;</th><th scope=col>&lt;dbl&gt;</th><th scope=col>&lt;dbl&gt;</th><th scope=col>&lt;dbl&gt;</th><th scope=col>&lt;dbl&gt;</th><th scope=col>&lt;dbl&gt;</th><th scope=col>&lt;dbl&gt;</th><th scope=col>⋯</th><th scope=col>&lt;dbl&gt;</th><th scope=col>&lt;dbl&gt;</th><th scope=col>&lt;dbl&gt;</th><th scope=col>&lt;dbl&gt;</th><th scope=col>&lt;dbl&gt;</th><th scope=col>&lt;dbl&gt;</th><th scope=col>&lt;dbl&gt;</th><th scope=col>&lt;dbl&gt;</th><th scope=col>&lt;dbl&gt;</th><th scope=col>&lt;int&gt;</th></tr>\n",
              "</thead>\n",
              "<tbody>\n",
              "\t<tr><th scope=row>0</th><td> 0.2599979</td><td>-0.19839129</td><td> 0.8766408</td><td>-0.20829183</td><td>1.18146356</td><td>-0.2626739</td><td> 0.8061924</td><td> 0.7040547</td><td> 0.2533284</td><td> 0.06549212</td><td>⋯</td><td> 1.0200687</td><td>-0.068760751</td><td> 1.3056287</td><td> 0.18575621</td><td>-0.85831772</td><td>-0.4080634</td><td>-0.10139532</td><td>-0.2665073</td><td> 1.001205044</td><td>2</td></tr>\n",
              "\t<tr><th scope=row>1</th><td>-0.3434970</td><td> 0.02680334</td><td>-2.5290355</td><td> 0.08497393</td><td>0.71406825</td><td> 0.2983478</td><td> 1.0318661</td><td>-0.1668313</td><td>-0.1305015</td><td>-0.83384135</td><td>⋯</td><td> 0.3816775</td><td> 0.235017317</td><td>-0.6653484</td><td> 0.18825235</td><td>-0.94842730</td><td>-0.1190390</td><td>-0.09549131</td><td> 0.2687767</td><td>-0.005900114</td><td>2</td></tr>\n",
              "\t<tr><th scope=row>2</th><td> 0.1030364</td><td> 0.75553598</td><td>-3.6530814</td><td>-0.40422140</td><td>0.08872642</td><td>-0.6589510</td><td> 1.5344165</td><td> 0.5213382</td><td> 0.8833076</td><td>-0.16368383</td><td>⋯</td><td> 0.4971795</td><td> 0.008024128</td><td>-0.6368140</td><td>-0.45127831</td><td>-0.47583032</td><td> 0.1365121</td><td>-0.10046451</td><td>-0.4343670</td><td> 0.019610229</td><td>2</td></tr>\n",
              "\t<tr><th scope=row>5</th><td> 0.1082522</td><td> 0.26712887</td><td> 0.4477779</td><td>-0.19150383</td><td>1.98873754</td><td> 1.7528873</td><td> 0.6185244</td><td> 1.3085474</td><td>-0.2775673</td><td>-0.23331868</td><td>⋯</td><td>-1.2898071</td><td>-0.217406375</td><td>-0.1168523</td><td>-0.59109656</td><td>-1.36836712</td><td>-0.1774037</td><td>-0.10015661</td><td> 1.7010429</td><td>-0.346453978</td><td>3</td></tr>\n",
              "\t<tr><th scope=row>6</th><td>-0.5384167</td><td> 0.01782542</td><td>-0.6050667</td><td> 0.04915754</td><td>0.94487888</td><td> 1.4037623</td><td>-0.2230166</td><td> 1.1105029</td><td>-0.1701778</td><td>-0.68552899</td><td>⋯</td><td>-1.3422536</td><td>-0.301548098</td><td>-0.6430379</td><td> 0.09856482</td><td>-0.99432212</td><td>-0.1996009</td><td>-0.07482677</td><td>-0.4451437</td><td> 0.361030375</td><td>3</td></tr>\n",
              "\t<tr><th scope=row>8</th><td>-0.1923855</td><td>-0.65664651</td><td> 0.2597178</td><td> 0.11226672</td><td>0.28370704</td><td>-0.7964421</td><td> 0.6119455</td><td> 2.4633029</td><td>-0.7093318</td><td> 0.89357013</td><td>⋯</td><td>-0.3540661</td><td>-0.011792252</td><td>-0.6586043</td><td> 0.41130977</td><td>-0.05011127</td><td> 0.7830506</td><td>-0.10002280</td><td>-0.3861716</td><td>-0.770673850</td><td>2</td></tr>\n",
              "</tbody>\n",
              "</table>\n"
            ]
          },
          "metadata": {}
        }
      ]
    },
    {
      "cell_type": "code",
      "metadata": {
        "id": "vDXbR3zmNYgS"
      },
      "source": [
        "datadf1=as.data.frame(rbind(as.matrix(train[,1:270])))\n",
        "label<-as.matrix(train[,271:271])"
      ],
      "execution_count": null,
      "outputs": []
    },
    {
      "cell_type": "code",
      "metadata": {
        "colab": {
          "base_uri": "https://localhost:8080/",
          "height": 34
        },
        "id": "0GQPRNkdN0xv",
        "outputId": "e57582aa-1b13-4441-be36-b8947ca006c5"
      },
      "source": [
        "dim(datadf1)\n"
      ],
      "execution_count": null,
      "outputs": [
        {
          "output_type": "display_data",
          "data": {
            "text/plain": [
              "[1] 700 270"
            ],
            "text/latex": "\\begin{enumerate*}\n\\item 700\n\\item 270\n\\end{enumerate*}\n",
            "text/markdown": "1. 700\n2. 270\n\n\n",
            "text/html": [
              "<style>\n",
              ".list-inline {list-style: none; margin:0; padding: 0}\n",
              ".list-inline>li {display: inline-block}\n",
              ".list-inline>li:not(:last-child)::after {content: \"\\00b7\"; padding: 0 .5ex}\n",
              "</style>\n",
              "<ol class=list-inline><li>700</li><li>270</li></ol>\n"
            ]
          },
          "metadata": {}
        }
      ]
    },
    {
      "cell_type": "code",
      "metadata": {
        "colab": {
          "base_uri": "https://localhost:8080/",
          "height": 34
        },
        "id": "6UC5lMY2yFyt",
        "outputId": "d9d959db-f281-477c-ad41-2b7bc954f406"
      },
      "source": [
        "dim(label)"
      ],
      "execution_count": null,
      "outputs": [
        {
          "output_type": "display_data",
          "data": {
            "text/plain": [
              "[1] 700   1"
            ],
            "text/latex": "\\begin{enumerate*}\n\\item 700\n\\item 1\n\\end{enumerate*}\n",
            "text/markdown": "1. 700\n2. 1\n\n\n",
            "text/html": [
              "<style>\n",
              ".list-inline {list-style: none; margin:0; padding: 0}\n",
              ".list-inline>li {display: inline-block}\n",
              ".list-inline>li:not(:last-child)::after {content: \"\\00b7\"; padding: 0 .5ex}\n",
              "</style>\n",
              "<ol class=list-inline><li>700</li><li>1</li></ol>\n"
            ]
          },
          "metadata": {}
        }
      ]
    },
    {
      "cell_type": "code",
      "metadata": {
        "colab": {
          "base_uri": "https://localhost:8080/",
          "height": 34
        },
        "id": "sy3RncuaufT1",
        "outputId": "a7c2e34f-5f18-4519-eafe-9c5077b65930"
      },
      "source": [
        "head(label)"
      ],
      "execution_count": null,
      "outputs": [
        {
          "output_type": "display_data",
          "data": {
            "text/plain": [
              "[1] 2 2 2 3 3 2"
            ],
            "text/latex": "\\begin{enumerate*}\n\\item 2\n\\item 2\n\\item 2\n\\item 3\n\\item 3\n\\item 2\n\\end{enumerate*}\n",
            "text/markdown": "1. 2\n2. 2\n3. 2\n4. 3\n5. 3\n6. 2\n\n\n",
            "text/html": [
              "<style>\n",
              ".list-inline {list-style: none; margin:0; padding: 0}\n",
              ".list-inline>li {display: inline-block}\n",
              ".list-inline>li:not(:last-child)::after {content: \"\\00b7\"; padding: 0 .5ex}\n",
              "</style>\n",
              "<ol class=list-inline><li>2</li><li>2</li><li>2</li><li>3</li><li>3</li><li>2</li></ol>\n"
            ]
          },
          "metadata": {}
        }
      ]
    },
    {
      "cell_type": "code",
      "metadata": {
        "id": "_ghoxbVU6f5Q"
      },
      "source": [
        "CVgroup <- function(k,datasize,seed){\n",
        "  cvlist <- list()\n",
        "  set.seed(seed)\n",
        "  n <- rep(1:k,ceiling(datasize/k))[1:datasize]    #将数据分成K份，并生成的完成数据集n\n",
        "  temp <- sample(n,datasize)   #把n打乱\n",
        "  x <- 1:k\n",
        "  dataseq <- 1:datasize\n",
        "  cvlist <- lapply(x,function(x) dataseq[temp==x])  #dataseq中随机生成k个随机有序数据列\n",
        "  return(cvlist)\n",
        "}"
      ],
      "execution_count": null,
      "outputs": []
    },
    {
      "cell_type": "code",
      "metadata": {
        "colab": {
          "base_uri": "https://localhost:8080/"
        },
        "id": "Ry4t6F1J6QHH",
        "outputId": "070db211-7ad4-4255-d20a-e6e3d6281bb9"
      },
      "source": [
        "k<-5\n",
        "datasize<-nrow(datadf1)\n",
        "print(datasize)\n",
        "cvlist<-CVgroup(k = k,datasize = datasize,seed = 42)\n"
      ],
      "execution_count": null,
      "outputs": [
        {
          "output_type": "stream",
          "name": "stdout",
          "text": [
            "[1] 700\n"
          ]
        }
      ]
    },
    {
      "cell_type": "markdown",
      "metadata": {
        "id": "Wy0iExtdVMTt"
      },
      "source": [
        ""
      ]
    },
    {
      "cell_type": "code",
      "metadata": {
        "colab": {
          "base_uri": "https://localhost:8080/"
        },
        "id": "jYnprR5IZvZX",
        "outputId": "c5df26d5-325a-4089-f39d-01014f96e846"
      },
      "source": [
        "for(i in 1:k){\n",
        "\n",
        "  print(\"***********\")\n",
        "\t   #test_label<-label[cvlist[[i]]]\n",
        "     #print(datadf1[cvlist[[i]],])\n",
        "      print(\"***********\")\n",
        "    combined_train_data1 <- data[-cvlist[[i]],]  \n",
        "    combined_test_data1 <- data[cvlist[[i]],]\n",
        "    print(\"am here\")\n",
        "\t \tcombined_train_data<- as.matrix(combined_train_data1[,1:270])\n",
        "\t  combined_test_data<- as.matrix(combined_test_data1[,1:270])\n",
        "   \n",
        "   #X<-as.matrix(combined_train_data[1:270])\n",
        "\t  test_label<-as.matrix(combined_test_data1[,271])\n",
        "    train_label<-as.matrix(combined_train_data1[,271])\n",
        "\t  print(dim(combined_train_data))\n",
        "\t  print(dim(combined_test_data))\n",
        "    print(dim(test_label))\n",
        "    print(dim(train_label))\n",
        "\n",
        "    \n",
        "    cvfit <- cv.glmnet(combined_train_data,train_label,alpha=0.9, family=\"multinomial\")\n",
        "\t#cvfit <- cv.glmnet(combined_train_data,train_label,alpha=0.9, family=\"binomial\")\n",
        "\tprint('1111')\n",
        "    valprediction <- predict(cvfit,combined_train_data,type=\"class\",s=\"lambda.min\")  # train\n",
        "\tprint('2222')\n",
        "    tsprediction <- predict(cvfit,combined_test_data,type=\"class\",s=\"lambda.min\") # test\n",
        "\tprint('333')\n",
        "\t#View(tsprediction)\n",
        "  valprediction <- as.numeric(as.character(valprediction))\n",
        "\ttsprediction <- as.numeric(as.character(tsprediction))\n",
        "\n",
        "\tprint(length(valprediction))\n",
        "\tprint(length(tsprediction))\n",
        "\tprint(cvfit)\n",
        "\tprint(\"&&&&&&&&&&&&&&&&\")\n",
        "\tconMatrix.train <- confusionMatrix(factor(valprediction),factor(train_label))\n",
        "\tconMatrix.test <- confusionMatrix(factor(tsprediction),factor(test_label),mode = \"prec_recall\")\n",
        "\n",
        "\n",
        "\tperf.ConcatenationEN <- list(#\"Feature\" = coef.name,\n",
        "                             #\"Feature.idx\" = coef.idx,\n",
        "                             \"Perf.Train\" = conMatrix.train,\n",
        "                             \"Perf.Test\" = conMatrix.test)\n",
        "\t\t\t\t\t\t\t #\"AUC\" = auc)\n",
        "\n",
        "\t#View(perf.ConcatenationEN)\n",
        "\tcat('******************************************\\n')\n",
        "\tcat('k=',i,\"\\n\")\n",
        "\tprint(perf.ConcatenationEN)\n",
        "\tcat(\"\\n\")\n",
        "\t}\n",
        "\t\n",
        "\n",
        "\n"
      ],
      "execution_count": null,
      "outputs": [
        {
          "output_type": "stream",
          "name": "stdout",
          "text": [
            "[1] \"***********\"\n",
            "[1] \"***********\"\n",
            "[1] \"am here\"\n",
            "[1] 560 270\n",
            "[1] 140 270\n",
            "[1] 140   1\n",
            "[1] 560   1\n",
            "[1] \"1111\"\n",
            "[1] \"2222\"\n",
            "[1] \"333\"\n",
            "[1] 560\n",
            "[1] 140\n",
            "\n",
            "Call:  cv.glmnet(x = combined_train_data, y = train_label, alpha = 0.9,      family = \"multinomial\") \n",
            "\n",
            "Measure: Multinomial Deviance \n",
            "\n",
            "      Lambda Index Measure      SE Nonzero\n",
            "min 0.002797    50  0.4492 0.07167      37\n",
            "1se 0.009376    37  0.5179 0.05085      40\n",
            "[1] \"&&&&&&&&&&&&&&&&\"\n",
            "******************************************\n",
            "k= 1 \n",
            "$Perf.Train\n",
            "Confusion Matrix and Statistics\n",
            "\n",
            "          Reference\n",
            "Prediction   0   1   2   3   4\n",
            "         0 111   0   0   0   0\n",
            "         1   0 116   0   0   0\n",
            "         2   0   0 111   0   0\n",
            "         3   0   0   0 109   0\n",
            "         4   0   0   0   0 113\n",
            "\n",
            "Overall Statistics\n",
            "                                     \n",
            "               Accuracy : 1          \n",
            "                 95% CI : (0.9934, 1)\n",
            "    No Information Rate : 0.2071     \n",
            "    P-Value [Acc > NIR] : < 2.2e-16  \n",
            "                                     \n",
            "                  Kappa : 1          \n",
            "                                     \n",
            " Mcnemar's Test P-Value : NA         \n",
            "\n",
            "Statistics by Class:\n",
            "\n",
            "                     Class: 0 Class: 1 Class: 2 Class: 3 Class: 4\n",
            "Sensitivity            1.0000   1.0000   1.0000   1.0000   1.0000\n",
            "Specificity            1.0000   1.0000   1.0000   1.0000   1.0000\n",
            "Pos Pred Value         1.0000   1.0000   1.0000   1.0000   1.0000\n",
            "Neg Pred Value         1.0000   1.0000   1.0000   1.0000   1.0000\n",
            "Prevalence             0.1982   0.2071   0.1982   0.1946   0.2018\n",
            "Detection Rate         0.1982   0.2071   0.1982   0.1946   0.2018\n",
            "Detection Prevalence   0.1982   0.2071   0.1982   0.1946   0.2018\n",
            "Balanced Accuracy      1.0000   1.0000   1.0000   1.0000   1.0000\n",
            "\n",
            "$Perf.Test\n",
            "Confusion Matrix and Statistics\n",
            "\n",
            "          Reference\n",
            "Prediction  0  1  2  3  4\n",
            "         0 29  0  1  0  0\n",
            "         1  0 24  0  1  0\n",
            "         2  0  0 24  3  0\n",
            "         3  0  0  3 27  0\n",
            "         4  0  0  1  0 27\n",
            "\n",
            "Overall Statistics\n",
            "                                          \n",
            "               Accuracy : 0.9357          \n",
            "                 95% CI : (0.8815, 0.9702)\n",
            "    No Information Rate : 0.2214          \n",
            "    P-Value [Acc > NIR] : < 2.2e-16       \n",
            "                                          \n",
            "                  Kappa : 0.9195          \n",
            "                                          \n",
            " Mcnemar's Test P-Value : NA              \n",
            "\n",
            "Statistics by Class:\n",
            "\n",
            "                     Class: 0 Class: 1 Class: 2 Class: 3 Class: 4\n",
            "Precision              0.9667   0.9600   0.8889   0.9000   0.9643\n",
            "Recall                 1.0000   1.0000   0.8276   0.8710   1.0000\n",
            "F1                     0.9831   0.9796   0.8571   0.8852   0.9818\n",
            "Prevalence             0.2071   0.1714   0.2071   0.2214   0.1929\n",
            "Detection Rate         0.2071   0.1714   0.1714   0.1929   0.1929\n",
            "Detection Prevalence   0.2143   0.1786   0.1929   0.2143   0.2000\n",
            "Balanced Accuracy      0.9955   0.9957   0.9003   0.9217   0.9956\n",
            "\n",
            "\n",
            "[1] \"***********\"\n",
            "[1] \"***********\"\n",
            "[1] \"am here\"\n",
            "[1] 560 270\n",
            "[1] 140 270\n",
            "[1] 140   1\n",
            "[1] 560   1\n",
            "[1] \"1111\"\n",
            "[1] \"2222\"\n",
            "[1] \"333\"\n",
            "[1] 560\n",
            "[1] 140\n",
            "\n",
            "Call:  cv.glmnet(x = combined_train_data, y = train_label, alpha = 0.9,      family = \"multinomial\") \n",
            "\n",
            "Measure: Multinomial Deviance \n",
            "\n",
            "      Lambda Index Measure      SE Nonzero\n",
            "min 0.001431    57  0.3781 0.05039      37\n",
            "1se 0.004371    45  0.4221 0.04163      32\n",
            "[1] \"&&&&&&&&&&&&&&&&\"\n",
            "******************************************\n",
            "k= 2 \n",
            "$Perf.Train\n",
            "Confusion Matrix and Statistics\n",
            "\n",
            "          Reference\n",
            "Prediction   0   1   2   3   4\n",
            "         0 110   0   0   0   0\n",
            "         1   0 110   0   0   0\n",
            "         2   0   0 107   0   0\n",
            "         3   0   0   0 119   0\n",
            "         4   0   0   0   0 114\n",
            "\n",
            "Overall Statistics\n",
            "                                     \n",
            "               Accuracy : 1          \n",
            "                 95% CI : (0.9934, 1)\n",
            "    No Information Rate : 0.2125     \n",
            "    P-Value [Acc > NIR] : < 2.2e-16  \n",
            "                                     \n",
            "                  Kappa : 1          \n",
            "                                     \n",
            " Mcnemar's Test P-Value : NA         \n",
            "\n",
            "Statistics by Class:\n",
            "\n",
            "                     Class: 0 Class: 1 Class: 2 Class: 3 Class: 4\n",
            "Sensitivity            1.0000   1.0000   1.0000   1.0000   1.0000\n",
            "Specificity            1.0000   1.0000   1.0000   1.0000   1.0000\n",
            "Pos Pred Value         1.0000   1.0000   1.0000   1.0000   1.0000\n",
            "Neg Pred Value         1.0000   1.0000   1.0000   1.0000   1.0000\n",
            "Prevalence             0.1964   0.1964   0.1911   0.2125   0.2036\n",
            "Detection Rate         0.1964   0.1964   0.1911   0.2125   0.2036\n",
            "Detection Prevalence   0.1964   0.1964   0.1911   0.2125   0.2036\n",
            "Balanced Accuracy      1.0000   1.0000   1.0000   1.0000   1.0000\n",
            "\n",
            "$Perf.Test\n",
            "Confusion Matrix and Statistics\n",
            "\n",
            "          Reference\n",
            "Prediction  0  1  2  3  4\n",
            "         0 30  0  0  0  0\n",
            "         1  0 30  1  0  0\n",
            "         2  0  0 29  3  0\n",
            "         3  0  0  2 18  0\n",
            "         4  0  0  1  0 26\n",
            "\n",
            "Overall Statistics\n",
            "                                          \n",
            "               Accuracy : 0.95            \n",
            "                 95% CI : (0.8997, 0.9797)\n",
            "    No Information Rate : 0.2357          \n",
            "    P-Value [Acc > NIR] : < 2.2e-16       \n",
            "                                          \n",
            "                  Kappa : 0.9371          \n",
            "                                          \n",
            " Mcnemar's Test P-Value : NA              \n",
            "\n",
            "Statistics by Class:\n",
            "\n",
            "                     Class: 0 Class: 1 Class: 2 Class: 3 Class: 4\n",
            "Precision              1.0000   0.9677   0.9062   0.9000   0.9630\n",
            "Recall                 1.0000   1.0000   0.8788   0.8571   1.0000\n",
            "F1                     1.0000   0.9836   0.8923   0.8780   0.9811\n",
            "Prevalence             0.2143   0.2143   0.2357   0.1500   0.1857\n",
            "Detection Rate         0.2143   0.2143   0.2071   0.1286   0.1857\n",
            "Detection Prevalence   0.2143   0.2214   0.2286   0.1429   0.1929\n",
            "Balanced Accuracy      1.0000   0.9955   0.9254   0.9202   0.9956\n",
            "\n",
            "\n",
            "[1] \"***********\"\n",
            "[1] \"***********\"\n",
            "[1] \"am here\"\n",
            "[1] 560 270\n",
            "[1] 140 270\n",
            "[1] 140   1\n",
            "[1] 560   1\n",
            "[1] \"1111\"\n",
            "[1] \"2222\"\n",
            "[1] \"333\"\n",
            "[1] 560\n",
            "[1] 140\n",
            "\n",
            "Call:  cv.glmnet(x = combined_train_data, y = train_label, alpha = 0.9,      family = \"multinomial\") \n",
            "\n",
            "Measure: Multinomial Deviance \n",
            "\n",
            "      Lambda Index Measure      SE Nonzero\n",
            "min 0.001976    54  0.3979 0.05192      37\n",
            "1se 0.006035    42  0.4454 0.03893      31\n",
            "[1] \"&&&&&&&&&&&&&&&&\"\n",
            "******************************************\n",
            "k= 3 \n",
            "$Perf.Train\n",
            "Confusion Matrix and Statistics\n",
            "\n",
            "          Reference\n",
            "Prediction   0   1   2   3   4\n",
            "         0 114   0   0   0   0\n",
            "         1   0 111   0   0   0\n",
            "         2   0   0 107   0   0\n",
            "         3   0   0   0 117   0\n",
            "         4   0   0   0   0 111\n",
            "\n",
            "Overall Statistics\n",
            "                                     \n",
            "               Accuracy : 1          \n",
            "                 95% CI : (0.9934, 1)\n",
            "    No Information Rate : 0.2089     \n",
            "    P-Value [Acc > NIR] : < 2.2e-16  \n",
            "                                     \n",
            "                  Kappa : 1          \n",
            "                                     \n",
            " Mcnemar's Test P-Value : NA         \n",
            "\n",
            "Statistics by Class:\n",
            "\n",
            "                     Class: 0 Class: 1 Class: 2 Class: 3 Class: 4\n",
            "Sensitivity            1.0000   1.0000   1.0000   1.0000   1.0000\n",
            "Specificity            1.0000   1.0000   1.0000   1.0000   1.0000\n",
            "Pos Pred Value         1.0000   1.0000   1.0000   1.0000   1.0000\n",
            "Neg Pred Value         1.0000   1.0000   1.0000   1.0000   1.0000\n",
            "Prevalence             0.2036   0.1982   0.1911   0.2089   0.1982\n",
            "Detection Rate         0.2036   0.1982   0.1911   0.2089   0.1982\n",
            "Detection Prevalence   0.2036   0.1982   0.1911   0.2089   0.1982\n",
            "Balanced Accuracy      1.0000   1.0000   1.0000   1.0000   1.0000\n",
            "\n",
            "$Perf.Test\n",
            "Confusion Matrix and Statistics\n",
            "\n",
            "          Reference\n",
            "Prediction  0  1  2  3  4\n",
            "         0 23  0  0  0  0\n",
            "         1  0 29  0  0  0\n",
            "         2  2  0 27  2  0\n",
            "         3  0  0  4 21  0\n",
            "         4  1  0  2  0 29\n",
            "\n",
            "Overall Statistics\n",
            "                                          \n",
            "               Accuracy : 0.9214          \n",
            "                 95% CI : (0.8638, 0.9601)\n",
            "    No Information Rate : 0.2357          \n",
            "    P-Value [Acc > NIR] : < 2.2e-16       \n",
            "                                          \n",
            "                  Kappa : 0.9015          \n",
            "                                          \n",
            " Mcnemar's Test P-Value : NA              \n",
            "\n",
            "Statistics by Class:\n",
            "\n",
            "                     Class: 0 Class: 1 Class: 2 Class: 3 Class: 4\n",
            "Precision              1.0000   1.0000   0.8710   0.8400   0.9062\n",
            "Recall                 0.8846   1.0000   0.8182   0.9130   1.0000\n",
            "F1                     0.9388   1.0000   0.8438   0.8750   0.9508\n",
            "Prevalence             0.1857   0.2071   0.2357   0.1643   0.2071\n",
            "Detection Rate         0.1643   0.2071   0.1929   0.1500   0.2071\n",
            "Detection Prevalence   0.1643   0.2071   0.2214   0.1786   0.2286\n",
            "Balanced Accuracy      0.9423   1.0000   0.8904   0.9394   0.9865\n",
            "\n",
            "\n",
            "[1] \"***********\"\n",
            "[1] \"***********\"\n",
            "[1] \"am here\"\n",
            "[1] 560 270\n",
            "[1] 140 270\n",
            "[1] 140   1\n",
            "[1] 560   1\n",
            "[1] \"1111\"\n",
            "[1] \"2222\"\n",
            "[1] \"333\"\n",
            "[1] 560\n",
            "[1] 140\n",
            "\n",
            "Call:  cv.glmnet(x = combined_train_data, y = train_label, alpha = 0.9,      family = \"multinomial\") \n",
            "\n",
            "Measure: Multinomial Deviance \n",
            "\n",
            "      Lambda Index Measure      SE Nonzero\n",
            "min 0.004013    46  0.5239 0.07372      39\n",
            "1se 0.012254    34  0.5874 0.06211      33\n",
            "[1] \"&&&&&&&&&&&&&&&&\"\n",
            "******************************************\n",
            "k= 4 \n",
            "$Perf.Train\n",
            "Confusion Matrix and Statistics\n",
            "\n",
            "          Reference\n",
            "Prediction   0   1   2   3   4\n",
            "         0 110   0   0   0   0\n",
            "         1   0 113   0   0   0\n",
            "         2   0   0 120   0   0\n",
            "         3   0   0   0 107   0\n",
            "         4   0   0   0   0 110\n",
            "\n",
            "Overall Statistics\n",
            "                                     \n",
            "               Accuracy : 1          \n",
            "                 95% CI : (0.9934, 1)\n",
            "    No Information Rate : 0.2143     \n",
            "    P-Value [Acc > NIR] : < 2.2e-16  \n",
            "                                     \n",
            "                  Kappa : 1          \n",
            "                                     \n",
            " Mcnemar's Test P-Value : NA         \n",
            "\n",
            "Statistics by Class:\n",
            "\n",
            "                     Class: 0 Class: 1 Class: 2 Class: 3 Class: 4\n",
            "Sensitivity            1.0000   1.0000   1.0000   1.0000   1.0000\n",
            "Specificity            1.0000   1.0000   1.0000   1.0000   1.0000\n",
            "Pos Pred Value         1.0000   1.0000   1.0000   1.0000   1.0000\n",
            "Neg Pred Value         1.0000   1.0000   1.0000   1.0000   1.0000\n",
            "Prevalence             0.1964   0.2018   0.2143   0.1911   0.1964\n",
            "Detection Rate         0.1964   0.2018   0.2143   0.1911   0.1964\n",
            "Detection Prevalence   0.1964   0.2018   0.2143   0.1911   0.1964\n",
            "Balanced Accuracy      1.0000   1.0000   1.0000   1.0000   1.0000\n",
            "\n",
            "$Perf.Test\n",
            "Confusion Matrix and Statistics\n",
            "\n",
            "          Reference\n",
            "Prediction  0  1  2  3  4\n",
            "         0 29  0  0  0  0\n",
            "         1  0 27  0  1  0\n",
            "         2  0  0 18  2  0\n",
            "         3  1  0  2 30  0\n",
            "         4  0  0  0  0 30\n",
            "\n",
            "Overall Statistics\n",
            "                                          \n",
            "               Accuracy : 0.9571          \n",
            "                 95% CI : (0.9091, 0.9841)\n",
            "    No Information Rate : 0.2357          \n",
            "    P-Value [Acc > NIR] : < 2.2e-16       \n",
            "                                          \n",
            "                  Kappa : 0.9461          \n",
            "                                          \n",
            " Mcnemar's Test P-Value : NA              \n",
            "\n",
            "Statistics by Class:\n",
            "\n",
            "                     Class: 0 Class: 1 Class: 2 Class: 3 Class: 4\n",
            "Precision              1.0000   0.9643   0.9000   0.9091   1.0000\n",
            "Recall                 0.9667   1.0000   0.9000   0.9091   1.0000\n",
            "F1                     0.9831   0.9818   0.9000   0.9091   1.0000\n",
            "Prevalence             0.2143   0.1929   0.1429   0.2357   0.2143\n",
            "Detection Rate         0.2071   0.1929   0.1286   0.2143   0.2143\n",
            "Detection Prevalence   0.2071   0.2000   0.1429   0.2357   0.2143\n",
            "Balanced Accuracy      0.9833   0.9956   0.9417   0.9405   1.0000\n",
            "\n",
            "\n",
            "[1] \"***********\"\n",
            "[1] \"***********\"\n",
            "[1] \"am here\"\n",
            "[1] 560 270\n",
            "[1] 140 270\n",
            "[1] 140   1\n",
            "[1] 560   1\n",
            "[1] \"1111\"\n",
            "[1] \"2222\"\n",
            "[1] \"333\"\n",
            "[1] 560\n",
            "[1] 140\n",
            "\n",
            "Call:  cv.glmnet(x = combined_train_data, y = train_label, alpha = 0.9,      family = \"multinomial\") \n",
            "\n",
            "Measure: Multinomial Deviance \n",
            "\n",
            "      Lambda Index Measure      SE Nonzero\n",
            "min 0.004548    45  0.4549 0.07118      38\n",
            "1se 0.008723    38  0.5185 0.06219      31\n",
            "[1] \"&&&&&&&&&&&&&&&&\"\n",
            "******************************************\n",
            "k= 5 \n",
            "$Perf.Train\n",
            "Confusion Matrix and Statistics\n",
            "\n",
            "          Reference\n",
            "Prediction   0   1   2   3   4\n",
            "         0 115   0   0   0   0\n",
            "         1   0 110   0   0   0\n",
            "         2   0   0 115   0   0\n",
            "         3   0   0   0 108   0\n",
            "         4   0   0   0   0 112\n",
            "\n",
            "Overall Statistics\n",
            "                                     \n",
            "               Accuracy : 1          \n",
            "                 95% CI : (0.9934, 1)\n",
            "    No Information Rate : 0.2054     \n",
            "    P-Value [Acc > NIR] : < 2.2e-16  \n",
            "                                     \n",
            "                  Kappa : 1          \n",
            "                                     \n",
            " Mcnemar's Test P-Value : NA         \n",
            "\n",
            "Statistics by Class:\n",
            "\n",
            "                     Class: 0 Class: 1 Class: 2 Class: 3 Class: 4\n",
            "Sensitivity            1.0000   1.0000   1.0000   1.0000      1.0\n",
            "Specificity            1.0000   1.0000   1.0000   1.0000      1.0\n",
            "Pos Pred Value         1.0000   1.0000   1.0000   1.0000      1.0\n",
            "Neg Pred Value         1.0000   1.0000   1.0000   1.0000      1.0\n",
            "Prevalence             0.2054   0.1964   0.2054   0.1929      0.2\n",
            "Detection Rate         0.2054   0.1964   0.2054   0.1929      0.2\n",
            "Detection Prevalence   0.2054   0.1964   0.2054   0.1929      0.2\n",
            "Balanced Accuracy      1.0000   1.0000   1.0000   1.0000      1.0\n",
            "\n",
            "$Perf.Test\n",
            "Confusion Matrix and Statistics\n",
            "\n",
            "          Reference\n",
            "Prediction  0  1  2  3  4\n",
            "         0 25  0  0  0  0\n",
            "         1  0 30  0  0  0\n",
            "         2  0  0 18  4  0\n",
            "         3  0  0  4 27  0\n",
            "         4  0  0  3  1 28\n",
            "\n",
            "Overall Statistics\n",
            "                                          \n",
            "               Accuracy : 0.9143          \n",
            "                 95% CI : (0.8551, 0.9549)\n",
            "    No Information Rate : 0.2286          \n",
            "    P-Value [Acc > NIR] : < 2.2e-16       \n",
            "                                          \n",
            "                  Kappa : 0.8926          \n",
            "                                          \n",
            " Mcnemar's Test P-Value : NA              \n",
            "\n",
            "Statistics by Class:\n",
            "\n",
            "                     Class: 0 Class: 1 Class: 2 Class: 3 Class: 4\n",
            "Precision              1.0000   1.0000   0.8182   0.8710   0.8750\n",
            "Recall                 1.0000   1.0000   0.7200   0.8438   1.0000\n",
            "F1                     1.0000   1.0000   0.7660   0.8571   0.9333\n",
            "Prevalence             0.1786   0.2143   0.1786   0.2286   0.2000\n",
            "Detection Rate         0.1786   0.2143   0.1286   0.1929   0.2000\n",
            "Detection Prevalence   0.1786   0.2143   0.1571   0.2214   0.2286\n",
            "Balanced Accuracy      1.0000   1.0000   0.8426   0.9034   0.9821\n",
            "\n",
            "\n"
          ]
        }
      ]
    },
    {
      "cell_type": "code",
      "metadata": {
        "id": "d9fMOu6wSb-b"
      },
      "source": [
        ""
      ],
      "execution_count": null,
      "outputs": []
    },
    {
      "cell_type": "markdown",
      "metadata": {
        "id": "J7IPa_aZSgTX"
      },
      "source": [
        "# New Section"
      ]
    },
    {
      "cell_type": "markdown",
      "metadata": {
        "id": "j0kzKFO_Sq3u"
      },
      "source": [
        "**RANDOM FOREST**"
      ]
    },
    {
      "cell_type": "code",
      "metadata": {
        "colab": {
          "base_uri": "https://localhost:8080/",
          "height": 100
        },
        "id": "kli1mSWPDzTJ",
        "outputId": "a3583df1-3736-48f3-bbcb-635ea69248c1"
      },
      "source": [
        "for(i in 1:k){\n",
        "\n",
        "  print(\"***********\")\n",
        "\t   #test_label<-label[cvlist[[i]]]\n",
        "     #print(datadf1[cvlist[[i]],])\n",
        "      print(\"***********\")\n",
        "    combined_train_data1 <- data[-cvlist[[i]],]  \n",
        "    combined_test_data1 <- data[cvlist[[i]],]\n",
        "    print(\"am here\")\n",
        "\t \tcombined_train_data<- as.matrix(combined_train_data1[,1:270])\n",
        "\t  combined_test_data<- as.matrix(combined_test_data1[,1:270])\n",
        "   \n",
        "   #X<-as.matrix(combined_train_data[1:270])\n",
        "\t  test_label<-as.matrix(combined_test_data1[,271])\n",
        "    train_label<-as.matrix(combined_train_data1[,271])\n",
        "\t  print(dim(combined_train_data))\n",
        "\t  print(dim(combined_test_data))\n",
        "    print(dim(test_label))\n",
        "    \tprint('219')\n",
        "    print(dim(train_label))\n",
        "    \tprint('220')\n",
        "   # print(factor(train_label))\n",
        "    \tprint('221')\n",
        "   net <- randomForest(x = combined_train_data, y = factor(train_label), \n",
        "                    importance = TRUE, ntree = 10)\n",
        "\t\t\t\t\t\t\n",
        "\tprint('222')\n",
        "\tprint(net)\n",
        "\ta=readline()\n",
        "    valprediction <- predict(net, combined_train_data)\n",
        "\tprint('333')\n",
        "\ttsprediction <- predict(net, combined_test_data)\n",
        "\t\n",
        "\tvalprediction <- as.numeric(as.character(valprediction))\n",
        "\ttsprediction <- as.numeric(as.character(tsprediction))\n",
        "print(length(valprediction))\n",
        "\n",
        "print(length(tsprediction))\n",
        "print(\"$$$$$$$$$$$$$$$$$$$$$$$$$$$$$$$$$$$$$$$$\")\n",
        "\n",
        "\tconMatrix.train <- confusionMatrix(factor(valprediction),factor(train_label))\n",
        "\tconMatrix.test <- confusionMatrix(factor(tsprediction),factor(test_label),mode = \"prec_recall\")\n",
        "\n",
        "\tperf.ConcatenationEN <- list(#\"Feature\" = coef.name,\n",
        "                             #\"Feature.idx\" = coef.idx,\n",
        "                             \"Perf.Train\" = conMatrix.train,\n",
        "                             \"Perf.Test\" = conMatrix.test)\n",
        "\t\t\t\t\t\t\t #\"AUC\" = auc)\n",
        "\n",
        "\t#View(perf.ConcatenationEN)\n",
        "\tcat('******************************************\\n')\n",
        "\tcat('k=',i,\"\\n\")\n",
        "\tprint(perf.ConcatenationEN)\n",
        "\tcat(\"\\n\")\n",
        "\t}"
      ],
      "execution_count": null,
      "outputs": [
        {
          "output_type": "error",
          "ename": "ERROR",
          "evalue": "ignored",
          "traceback": [
            "Error in eval(expr, envir, enclos): object 'k' not found\nTraceback:\n"
          ]
        }
      ]
    },
    {
      "cell_type": "code",
      "metadata": {
        "colab": {
          "base_uri": "https://localhost:8080/",
          "height": 100
        },
        "id": "iU-JKRqxVRd3",
        "outputId": "d1c1e54a-cc64-462d-b524-e971b6417b18"
      },
      "source": [
        "for(i in 1:k){\n",
        "\n",
        "  print(\"***********\")\n",
        "\t   \n",
        "      print(\"***********\")\n",
        "    combined_train_data1 <- data[-cvlist[[i]],]  \n",
        "    combined_test_data1 <- data[cvlist[[i]],]\n",
        "    print(\"am here\")\n",
        "\t \tcombined_train_data<- as.matrix(combined_train_data1[,1:270])\n",
        "\t  combined_test_data<- as.matrix(combined_test_data1[,1:270])\n",
        "   \n",
        "   #X<-as.matrix(combined_train_data[1:270])\n",
        "\t  test_label<-as.matrix(combined_test_data1[,271])\n",
        "    train_label<-as.matrix(combined_train_data1[,271])\n",
        "\t  print(dim(combined_train_data))\n",
        "\t  print(dim(combined_test_data))\n",
        "    print(dim(test_label))\n",
        "    \tprint('219')\n",
        "    print(dim(train_label))\n",
        "    \tprint('220')\n",
        "   # print(factor(train_label))\n",
        "    \tprint('221')\n",
        "    cvfit <- cv.glmnet(combined_train_data,train_label,alpha=0.9, family=\"multinomial\", type.multinomial=\"grouped\")\n",
        "\t#cvfit <- cv.glmnet(combined_train_data,train_label,alpha=0.9, family=\"binomial\")\n",
        "\tprint('1111')\n",
        "    valprediction <- predict(cvfit,combined_train_data,type=\"class\",s=\"lambda.min\")  # train\n",
        "\tprint('2222')\n",
        "    tsprediction <- predict(cvfit,combined_test_data,type=\"class\",s=\"lambda.min\") # test\n",
        "\tprint('333')\n",
        "\t#View(tsprediction)\n",
        "    valprediction <- as.numeric(as.character(valprediction))\n",
        "\ttsprediction <- as.numeric(as.character(tsprediction))\n",
        "\n",
        "\n",
        "\tconMatrix.train <- confusionMatrix(as.factor(valprediction),as.factor(train_label))\n",
        "\tconMatrix.test <- confusionMatrix(as.factor(tsprediction),as.factor(test_label),mode = \"prec_recall\")\n",
        "\t#pred <- prediction(tsprediction, test_label)\n",
        "\t#auc <- performance(pred,'auc')\n",
        "\t#auc=unlist(slot(auc,\"y.values\"))\n",
        "\n",
        "\tperf.ConcatenationEN <- list(#\"Feature\" = coef.name,\n",
        "                             #\"Feature.idx\" = coef.idx,\n",
        "                             \"Perf.Train\" = conMatrix.train,\n",
        "                             \"Perf.Test\" = conMatrix.test)\n",
        "\t\t\t\t\t\t\t #\"AUC\" = auc)\n",
        "\n",
        "\t#View(perf.ConcatenationEN)\n",
        "\tcat('******************************************\\n')\n",
        "\tcat('k=',i,\"\\n\")\n",
        "\tprint(perf.ConcatenationEN)\n",
        "\tcat(\"\\n\")\n",
        "\t}\n",
        "\t\n"
      ],
      "execution_count": null,
      "outputs": [
        {
          "output_type": "error",
          "ename": "ERROR",
          "evalue": "ignored",
          "traceback": [
            "Error in eval(expr, envir, enclos): object 'k' not found\nTraceback:\n"
          ]
        }
      ]
    },
    {
      "cell_type": "code",
      "metadata": {
        "id": "exaHw1jfVcgA"
      },
      "source": [
        "for(i in 1:k){\n",
        "\n",
        "  print(\"***********\")\n",
        "\t   #test_label<-label[cvlist[[i]]]\n",
        "     #print(datadf1[cvlist[[i]],])\n",
        "      print(\"***********\")\n",
        "    combined_train_data1 <- data[-cvlist[[i]],]  \n",
        "    combined_test_data1 <- data[cvlist[[i]],]\n",
        "    print(\"am here\")\n",
        "\t \tcombined_train_data<- as.matrix(combined_train_data1[,1:270])\n",
        "\t  combined_test_data<- as.matrix(combined_test_data1[,1:270])\n",
        "   \n",
        "   #X<-as.matrix(combined_train_data[1:270])\n",
        "\t  test_label<-as.matrix(combined_test_data1[,271])\n",
        "    train_label<-as.matrix(combined_train_data1[,271])\n",
        "\t  print(dim(combined_train_data))\n",
        "\t  print(dim(combined_test_data))\n",
        "    print(dim(test_label))\n",
        "    \tprint('219')\n",
        "    print(dim(train_label))\n",
        "    \tprint('220')\n",
        "   # print(factor(train_label))\n",
        "    \tprint('221')\n",
        " \n",
        "    # 2.EnsembleRF\n",
        "\t##--------------\n",
        "\tensemblePanels <- lapply(\tcombined_train_data, function(i){\n",
        "\t  RF.colon <- randomForest(x = i, y = factor(train_label), importance = TRUE, ntree = 8)\n",
        "\t})\n",
        "\tprint('222')\n",
        "\tensembleValiPredction <- mapply(function(fit,x){\n",
        "\t  valprediction <- predict(fit,x)\n",
        "\t}, fit = ensemblePanels, x = train_data)\n",
        "\tprint('333')\n",
        "\tensembleTestPredction <- mapply(function(fit,x){\n",
        "\t  tsprediction <- predict(fit,x)\n",
        "\t}, fit = ensemblePanels, x = test_data)\n",
        "\tprint('444')\n",
        "\tvalprediction <- evaluate.ensemble(ensembleValiPredction, train_label)\n",
        "\ttsprediction <- evaluate.ensemble(ensembleTestPredction, test_label)\n",
        "\n",
        "\t\n",
        "\tconMatrix.train <- confusionMatrix(as.factor(valprediction),as.factor(train_label))\n",
        "\tconMatrix.test <- confusionMatrix(as.factor(tsprediction),as.factor(test_label),mode = \"prec_recall\")\n",
        "\n",
        "\n",
        "\tperf.ConcatenationEN <- list(\"Perf.Train\" = conMatrix.train,\n",
        "                             \"Perf.Test\" = conMatrix.test)\n",
        "\t\t\t\t\t\t\t #\"AUC\" = auc)\n",
        "\n",
        "\t#View(perf.ConcatenationEN)\n",
        "\tcat('********************************************************************************\\n')\n",
        "\tcat('k=',i,\"\\n\")\n",
        "\tprint(perf.ConcatenationEN)\n",
        "\tcat(\"\\n\")\n",
        "\t}"
      ],
      "execution_count": null,
      "outputs": []
    },
    {
      "cell_type": "code",
      "metadata": {
        "id": "GRg6EG-0xmo9"
      },
      "source": [
        "write.csv(train_label,\"Name.csv\", row.names = FALSE)"
      ],
      "execution_count": null,
      "outputs": []
    },
    {
      "cell_type": "markdown",
      "metadata": {
        "id": "_mPAAUWL_HRF"
      },
      "source": [
        ""
      ]
    },
    {
      "cell_type": "code",
      "metadata": {
        "id": "nYatu6xQeDse"
      },
      "source": [
        ""
      ],
      "execution_count": null,
      "outputs": []
    },
    {
      "cell_type": "code",
      "metadata": {
        "id": "PbBKchKT-aB1"
      },
      "source": [
        "#upload Pharmaco-master from local device!"
      ],
      "execution_count": null,
      "outputs": []
    },
    {
      "cell_type": "code",
      "metadata": {
        "id": "D1yHDfhMA9KE"
      },
      "source": [
        "#show distribution of BRCA subtypes\n",
        "mycol <- c(\"#8dd3c7\",\"#ffffb3\",\"#bebada\",\"#fb8072\",\"#80b1d3\")\n",
        "pie(table(CCLEsmall@cell[,\"tissueid\"]), \n",
        "   col=mycol, \n",
        "    main=\"Tissue types\", \n",
        "    radius=1, \n",
        "    cex=0.8)"
      ],
      "execution_count": null,
      "outputs": []
    },
    {
      "cell_type": "code",
      "metadata": {
        "id": "ueDavaFNnI_l"
      },
      "source": [
        "GDSC.aac <- summarizeSensitivityProfiles(\n",
        "    GDSCsmall,\n",
        "    sensitivity.measure='auc_recomputed', \n",
        "    summary.stat=\"median\",\n",
        "    verbose=FALSE)\n",
        "\n",
        "\n",
        "  "
      ],
      "execution_count": null,
      "outputs": []
    },
    {
      "cell_type": "code",
      "metadata": {
        "id": "ifwwdXFRreWi"
      },
      "source": [
        "GDSC.aac"
      ],
      "execution_count": null,
      "outputs": []
    },
    {
      "cell_type": "code",
      "metadata": {
        "id": "xPdtILFlpkJH"
      },
      "source": [
        "\n",
        "CCLE.ic50 <- summarizeSensitivityProfiles(\n",
        "  CCLEsmall, \n",
        "  sensitivity.measure='ic50_recomputed', \n",
        "  summary.stat=\"median\",\n",
        "  verbose=FALSE)"
      ],
      "execution_count": null,
      "outputs": []
    },
    {
      "cell_type": "code",
      "metadata": {
        "id": "DbRCpvnjpfeo"
      },
      "source": [
        "GDSC.ic50 <- summarizeSensitivityProfiles(\n",
        "    GDSCsmall, \n",
        "    sensitivity.measure='ic50_recomputed', \n",
        "    summary.stat=\"median\",\n",
        "    verbose=FALSE)"
      ],
      "execution_count": null,
      "outputs": []
    },
    {
      "cell_type": "code",
      "metadata": {
        "id": "AK4p6vRxpbUy"
      },
      "source": [
        "CCLE.aac <- summarizeSensitivityProfiles(\n",
        "  CCLEsmall,\n",
        "  sensitivity.measure='auc_recomputed', \n",
        "  summary.stat=\"median\",\n",
        "  verbose=FALSE)"
      ],
      "execution_count": null,
      "outputs": []
    },
    {
      "cell_type": "code",
      "metadata": {
        "id": "tnja5PaKrkC3"
      },
      "source": [
        "CCLE.aac"
      ],
      "execution_count": null,
      "outputs": []
    },
    {
      "cell_type": "code",
      "metadata": {
        "id": "cx5K0pCgpsOT"
      },
      "source": [
        "drug <- \"lapatinib\"\n",
        "#par(mfrow=c(1, 2))\n",
        "plot(x=GDSC.aac[drug,], \n",
        "              y=CCLE.aac[drug,], \n",
        "              method=c(\"transparent\"), \n",
        "              transparency=0.8, pch=16, minp=50, \n",
        "              xlim=c(0,5), \n",
        "              ylim=c(0, max(max(GDSC.aac[drug,], na.rm=T), max(CCLE.aac[drug,], na.rm=T))), \n",
        "              main=\"cells response to lapatinib\", \n",
        "              cex.sub=0.7, \n",
        "              xlab=\"AAC in GDSC\", \n",
        "              ylab=\"AAC in CCLE\")\n",
        "\n",
        "legend(\"topright\",\n",
        "         legend=sprintf(\"r=%s\\nrs=%s\\nCI=%s\", \n",
        "                 round(cor(GDSC.aac[drug,], \n",
        "                           CCLE.aac[drug,], \n",
        "                           method=\"pearson\",\n",
        "                           use=\"pairwise.complete.obs\"), \n",
        "                       digits=2),\n",
        "                 round(cor(GDSC.aac[drug,], \n",
        "                           CCLE.aac[drug,], \n",
        "                           method=\"spearman\",\n",
        "                           use=\"pairwise.complete.obs\"), \n",
        "                       digits=2),\n",
        "                 round(paired.concordance.index(GDSC.aac[drug,],\n",
        "                                                CCLE.aac[drug,],\n",
        "                                                delta.pred=0,\n",
        "                                                delta.obs=0)$cindex, \n",
        "                       digits=2)), \n",
        "         bty=\"n\")"
      ],
      "execution_count": null,
      "outputs": []
    },
    {
      "cell_type": "code",
      "metadata": {
        "id": "hXnDyR5uq8J7"
      },
      "source": [
        "x=GDSC.aac[drug,]\n",
        "x\n"
      ],
      "execution_count": null,
      "outputs": []
    },
    {
      "cell_type": "code",
      "metadata": {
        "id": "n0CHt9_BrPYn"
      },
      "source": [
        "y=CCLE.aac[drug,]\n",
        "y"
      ],
      "execution_count": null,
      "outputs": []
    }
  ]
}